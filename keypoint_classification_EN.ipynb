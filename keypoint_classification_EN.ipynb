{
 "cells": [
  {
   "cell_type": "code",
   "execution_count": 35,
   "metadata": {
    "id": "igMyGnjE9hEp"
   },
   "outputs": [],
   "source": [
    "import csv\n",
    "import os\n",
    "\n",
    "import numpy as np\n",
    "import tensorflow as tf\n",
    "from sklearn.model_selection import train_test_split\n",
    "\n",
    "RANDOM_SEED = 42"
   ]
  },
  {
   "cell_type": "markdown",
   "metadata": {
    "id": "t2HDvhIu9hEr"
   },
   "source": [
    "# Specify each path"
   ]
  },
  {
   "cell_type": "code",
   "execution_count": 36,
   "metadata": {
    "id": "9NvZP2Zn9hEy"
   },
   "outputs": [],
   "source": [
    "dataset = 'model/keypoint_classifier/keypoint_with_euclid_and_left.csv'\n",
    "model_save_path = 'model/keypoint_classifier/keypoint_classifier.hdf5'\n",
    "tflite_save_path = 'model/keypoint_classifier/keypoint_classifier.tflite'"
   ]
  },
  {
   "cell_type": "markdown",
   "metadata": {},
   "source": []
  },
  {
   "cell_type": "markdown",
   "metadata": {
    "id": "s5oMH7x19hEz"
   },
   "source": [
    "# Set number of classes"
   ]
  },
  {
   "cell_type": "code",
   "execution_count": 37,
   "metadata": {
    "id": "du4kodXL9hEz"
   },
   "outputs": [],
   "source": [
    "NUM_CLASSES = 28"
   ]
  },
  {
   "cell_type": "markdown",
   "metadata": {
    "id": "XjnL0uso9hEz"
   },
   "source": [
    "# Dataset reading"
   ]
  },
  {
   "cell_type": "code",
   "execution_count": 38,
   "metadata": {},
   "outputs": [
    {
     "data": {
      "text/plain": [
       "253"
      ]
     },
     "execution_count": 38,
     "metadata": {},
     "output_type": "execute_result"
    }
   ],
   "source": [
    "total_cols = len(np.loadtxt(dataset, delimiter=',', dtype='float32')[0])\n",
    "total_cols"
   ]
  },
  {
   "cell_type": "code",
   "execution_count": 39,
   "metadata": {
    "id": "QT5ZqtEz9hE0"
   },
   "outputs": [],
   "source": [
    "X_dataset = np.loadtxt(dataset, delimiter=',', dtype='float32', usecols=list(range(1, total_cols)))"
   ]
  },
  {
   "cell_type": "code",
   "execution_count": 40,
   "metadata": {
    "id": "QmoKFsp49hE0"
   },
   "outputs": [],
   "source": [
    "y_dataset = np.loadtxt(dataset, delimiter=',', dtype='int32', usecols=(0))"
   ]
  },
  {
   "cell_type": "code",
   "execution_count": 41,
   "metadata": {},
   "outputs": [],
   "source": [
    "X_train, X_test, y_train, y_test = train_test_split(X_dataset, y_dataset, train_size=0.75, random_state=RANDOM_SEED)"
   ]
  },
  {
   "cell_type": "markdown",
   "metadata": {
    "id": "mxK_lETT9hE0"
   },
   "source": [
    "# Model building"
   ]
  },
  {
   "cell_type": "code",
   "execution_count": 42,
   "metadata": {},
   "outputs": [],
   "source": [
    "input_neurons = total_cols-1\n",
    "weight = 256\n",
    "model = tf.keras.models.Sequential([\n",
    "    tf.keras.layers.Input((input_neurons, )),\n",
    "    tf.keras.layers.Dropout(0.2),\n",
    "    \n",
    "    tf.keras.layers.Dense(weight, activation='relu'),\n",
    "    tf.keras.layers.Dropout(0.2),\n",
    "    \n",
    "    tf.keras.layers.Dense(weight//2, activation='relu'),\n",
    "    tf.keras.layers.Dropout(0.2),\n",
    "    \n",
    "    tf.keras.layers.Dense(weight//4, activation='relu'),\n",
    "    tf.keras.layers.Dropout(0.2),\n",
    "    \n",
    "    tf.keras.layers.Dense(NUM_CLASSES, activation='softmax')\n",
    "])"
   ]
  },
  {
   "cell_type": "code",
   "execution_count": 43,
   "metadata": {
    "colab": {
     "base_uri": "https://localhost:8080/"
    },
    "id": "ypqky9tc9hE1",
    "outputId": "5db082bb-30e3-4110-bf63-a1ee777ecd46"
   },
   "outputs": [
    {
     "name": "stdout",
     "output_type": "stream",
     "text": [
      "Model: \"sequential_1\"\n",
      "_________________________________________________________________\n",
      " Layer (type)                Output Shape              Param #   \n",
      "=================================================================\n",
      " dropout_4 (Dropout)         (None, 252)               0         \n",
      "                                                                 \n",
      " dense_4 (Dense)             (None, 256)               64768     \n",
      "                                                                 \n",
      " dropout_5 (Dropout)         (None, 256)               0         \n",
      "                                                                 \n",
      " dense_5 (Dense)             (None, 128)               32896     \n",
      "                                                                 \n",
      " dropout_6 (Dropout)         (None, 128)               0         \n",
      "                                                                 \n",
      " dense_6 (Dense)             (None, 64)                8256      \n",
      "                                                                 \n",
      " dropout_7 (Dropout)         (None, 64)                0         \n",
      "                                                                 \n",
      " dense_7 (Dense)             (None, 28)                1820      \n",
      "                                                                 \n",
      "=================================================================\n",
      "Total params: 107740 (420.86 KB)\n",
      "Trainable params: 107740 (420.86 KB)\n",
      "Non-trainable params: 0 (0.00 Byte)\n",
      "_________________________________________________________________\n"
     ]
    }
   ],
   "source": [
    "model.summary()  # tf.keras.utils.plot_model(model, show_shapes=True)"
   ]
  },
  {
   "cell_type": "code",
   "execution_count": 44,
   "metadata": {
    "id": "MbMjOflQ9hE1"
   },
   "outputs": [],
   "source": [
    "# Model checkpoint callback\n",
    "cp_callback = tf.keras.callbacks.ModelCheckpoint(\n",
    "    model_save_path, verbose=1, save_weights_only=False)\n",
    "# Callback for early stopping\n",
    "es_callback = tf.keras.callbacks.EarlyStopping(patience=20, verbose=1)"
   ]
  },
  {
   "cell_type": "code",
   "execution_count": 45,
   "metadata": {
    "id": "c3Dac0M_9hE2"
   },
   "outputs": [],
   "source": [
    "# Model compilation\n",
    "optimizer = tf.keras.optimizers.Adam(learning_rate=0.001)\n",
    "model.compile(\n",
    "    optimizer='adam',\n",
    "    loss='sparse_categorical_crossentropy',\n",
    "    metrics=['accuracy']\n",
    ")"
   ]
  },
  {
   "cell_type": "markdown",
   "metadata": {
    "id": "7XI0j1Iu9hE2"
   },
   "source": [
    "# Model training"
   ]
  },
  {
   "cell_type": "code",
   "execution_count": 46,
   "metadata": {
    "colab": {
     "base_uri": "https://localhost:8080/"
    },
    "id": "WirBl-JE9hE3",
    "outputId": "71b30ca2-8294-4d9d-8aa2-800d90d399de",
    "scrolled": true
   },
   "outputs": [
    {
     "name": "stdout",
     "output_type": "stream",
     "text": [
      "Epoch 1/1000\n"
     ]
    },
    {
     "name": "stdout",
     "output_type": "stream",
     "text": [
      "253/254 [============================>.] - ETA: 0s - loss: 1.7672 - accuracy: 0.4436\n",
      "Epoch 1: saving model to model/keypoint_classifier\\keypoint_classifier.hdf5\n",
      "254/254 [==============================] - 2s 5ms/step - loss: 1.7650 - accuracy: 0.4443 - val_loss: 0.5067 - val_accuracy: 0.8631\n",
      "Epoch 2/1000\n",
      " 54/254 [=====>........................] - ETA: 0s - loss: 0.8683 - accuracy: 0.7034"
     ]
    },
    {
     "name": "stderr",
     "output_type": "stream",
     "text": [
      "c:\\Users\\anany\\anaconda3\\lib\\site-packages\\keras\\src\\engine\\training.py:3000: UserWarning: You are saving your model as an HDF5 file via `model.save()`. This file format is considered legacy. We recommend using instead the native Keras format, e.g. `model.save('my_model.keras')`.\n",
      "  saving_api.save_model(\n"
     ]
    },
    {
     "name": "stdout",
     "output_type": "stream",
     "text": [
      "241/254 [===========================>..] - ETA: 0s - loss: 0.7603 - accuracy: 0.7410\n",
      "Epoch 2: saving model to model/keypoint_classifier\\keypoint_classifier.hdf5\n",
      "254/254 [==============================] - 1s 4ms/step - loss: 0.7541 - accuracy: 0.7425 - val_loss: 0.3347 - val_accuracy: 0.8942\n",
      "Epoch 3/1000\n",
      "252/254 [============================>.] - ETA: 0s - loss: 0.5917 - accuracy: 0.7992\n",
      "Epoch 3: saving model to model/keypoint_classifier\\keypoint_classifier.hdf5\n",
      "254/254 [==============================] - 2s 7ms/step - loss: 0.5922 - accuracy: 0.7990 - val_loss: 0.2730 - val_accuracy: 0.9084\n",
      "Epoch 4/1000\n",
      "254/254 [==============================] - ETA: 0s - loss: 0.5118 - accuracy: 0.8258\n",
      "Epoch 4: saving model to model/keypoint_classifier\\keypoint_classifier.hdf5\n",
      "254/254 [==============================] - 2s 10ms/step - loss: 0.5118 - accuracy: 0.8258 - val_loss: 0.2378 - val_accuracy: 0.9188\n",
      "Epoch 5/1000\n",
      "254/254 [==============================] - ETA: 0s - loss: 0.4673 - accuracy: 0.8381\n",
      "Epoch 5: saving model to model/keypoint_classifier\\keypoint_classifier.hdf5\n",
      "254/254 [==============================] - 2s 8ms/step - loss: 0.4673 - accuracy: 0.8381 - val_loss: 0.2212 - val_accuracy: 0.9287\n",
      "Epoch 6/1000\n",
      "251/254 [============================>.] - ETA: 0s - loss: 0.4249 - accuracy: 0.8567\n",
      "Epoch 6: saving model to model/keypoint_classifier\\keypoint_classifier.hdf5\n",
      "254/254 [==============================] - 2s 7ms/step - loss: 0.4254 - accuracy: 0.8568 - val_loss: 0.1874 - val_accuracy: 0.9408\n",
      "Epoch 7/1000\n",
      "246/254 [============================>.] - ETA: 0s - loss: 0.3941 - accuracy: 0.8649\n",
      "Epoch 7: saving model to model/keypoint_classifier\\keypoint_classifier.hdf5\n",
      "254/254 [==============================] - 2s 6ms/step - loss: 0.3943 - accuracy: 0.8651 - val_loss: 0.1715 - val_accuracy: 0.9367\n",
      "Epoch 8/1000\n",
      "253/254 [============================>.] - ETA: 0s - loss: 0.3845 - accuracy: 0.8692\n",
      "Epoch 8: saving model to model/keypoint_classifier\\keypoint_classifier.hdf5\n",
      "254/254 [==============================] - 1s 5ms/step - loss: 0.3844 - accuracy: 0.8693 - val_loss: 0.1637 - val_accuracy: 0.9423\n",
      "Epoch 9/1000\n",
      "244/254 [===========================>..] - ETA: 0s - loss: 0.3616 - accuracy: 0.8757\n",
      "Epoch 9: saving model to model/keypoint_classifier\\keypoint_classifier.hdf5\n",
      "254/254 [==============================] - 1s 6ms/step - loss: 0.3617 - accuracy: 0.8762 - val_loss: 0.1521 - val_accuracy: 0.9497\n",
      "Epoch 10/1000\n",
      "247/254 [============================>.] - ETA: 0s - loss: 0.3499 - accuracy: 0.8825\n",
      "Epoch 10: saving model to model/keypoint_classifier\\keypoint_classifier.hdf5\n",
      "254/254 [==============================] - 1s 6ms/step - loss: 0.3500 - accuracy: 0.8828 - val_loss: 0.1549 - val_accuracy: 0.9528\n",
      "Epoch 11/1000\n",
      "252/254 [============================>.] - ETA: 0s - loss: 0.3353 - accuracy: 0.8859\n",
      "Epoch 11: saving model to model/keypoint_classifier\\keypoint_classifier.hdf5\n",
      "254/254 [==============================] - 1s 5ms/step - loss: 0.3349 - accuracy: 0.8861 - val_loss: 0.1553 - val_accuracy: 0.9384\n",
      "Epoch 12/1000\n",
      "254/254 [==============================] - ETA: 0s - loss: 0.3252 - accuracy: 0.8903\n",
      "Epoch 12: saving model to model/keypoint_classifier\\keypoint_classifier.hdf5\n",
      "254/254 [==============================] - 1s 5ms/step - loss: 0.3252 - accuracy: 0.8903 - val_loss: 0.1373 - val_accuracy: 0.9536\n",
      "Epoch 13/1000\n",
      "249/254 [============================>.] - ETA: 0s - loss: 0.3166 - accuracy: 0.8947\n",
      "Epoch 13: saving model to model/keypoint_classifier\\keypoint_classifier.hdf5\n",
      "254/254 [==============================] - 2s 7ms/step - loss: 0.3165 - accuracy: 0.8947 - val_loss: 0.1329 - val_accuracy: 0.9543\n",
      "Epoch 14/1000\n",
      "252/254 [============================>.] - ETA: 0s - loss: 0.3070 - accuracy: 0.8971\n",
      "Epoch 14: saving model to model/keypoint_classifier\\keypoint_classifier.hdf5\n",
      "254/254 [==============================] - 1s 6ms/step - loss: 0.3067 - accuracy: 0.8972 - val_loss: 0.1304 - val_accuracy: 0.9554\n",
      "Epoch 15/1000\n",
      "244/254 [===========================>..] - ETA: 0s - loss: 0.3019 - accuracy: 0.8967\n",
      "Epoch 15: saving model to model/keypoint_classifier\\keypoint_classifier.hdf5\n",
      "254/254 [==============================] - 2s 6ms/step - loss: 0.3018 - accuracy: 0.8971 - val_loss: 0.1258 - val_accuracy: 0.9604\n",
      "Epoch 16/1000\n",
      "249/254 [============================>.] - ETA: 0s - loss: 0.2901 - accuracy: 0.9035\n",
      "Epoch 16: saving model to model/keypoint_classifier\\keypoint_classifier.hdf5\n",
      "254/254 [==============================] - 2s 7ms/step - loss: 0.2899 - accuracy: 0.9035 - val_loss: 0.1271 - val_accuracy: 0.9517\n",
      "Epoch 17/1000\n",
      "247/254 [============================>.] - ETA: 0s - loss: 0.2859 - accuracy: 0.9033\n",
      "Epoch 17: saving model to model/keypoint_classifier\\keypoint_classifier.hdf5\n",
      "254/254 [==============================] - 2s 8ms/step - loss: 0.2853 - accuracy: 0.9036 - val_loss: 0.1336 - val_accuracy: 0.9566\n",
      "Epoch 18/1000\n",
      "249/254 [============================>.] - ETA: 0s - loss: 0.2851 - accuracy: 0.9044\n",
      "Epoch 18: saving model to model/keypoint_classifier\\keypoint_classifier.hdf5\n",
      "254/254 [==============================] - 2s 7ms/step - loss: 0.2848 - accuracy: 0.9044 - val_loss: 0.1244 - val_accuracy: 0.9591\n",
      "Epoch 19/1000\n",
      "251/254 [============================>.] - ETA: 0s - loss: 0.2755 - accuracy: 0.9074\n",
      "Epoch 19: saving model to model/keypoint_classifier\\keypoint_classifier.hdf5\n",
      "254/254 [==============================] - 2s 7ms/step - loss: 0.2753 - accuracy: 0.9074 - val_loss: 0.1259 - val_accuracy: 0.9625\n",
      "Epoch 20/1000\n",
      "244/254 [===========================>..] - ETA: 0s - loss: 0.2680 - accuracy: 0.9096\n",
      "Epoch 20: saving model to model/keypoint_classifier\\keypoint_classifier.hdf5\n",
      "254/254 [==============================] - 2s 6ms/step - loss: 0.2686 - accuracy: 0.9094 - val_loss: 0.1261 - val_accuracy: 0.9550\n",
      "Epoch 21/1000\n",
      "254/254 [==============================] - ETA: 0s - loss: 0.2648 - accuracy: 0.9095\n",
      "Epoch 21: saving model to model/keypoint_classifier\\keypoint_classifier.hdf5\n",
      "254/254 [==============================] - 2s 7ms/step - loss: 0.2648 - accuracy: 0.9095 - val_loss: 0.1057 - val_accuracy: 0.9625\n",
      "Epoch 22/1000\n",
      "251/254 [============================>.] - ETA: 0s - loss: 0.2683 - accuracy: 0.9098\n",
      "Epoch 22: saving model to model/keypoint_classifier\\keypoint_classifier.hdf5\n",
      "254/254 [==============================] - 1s 6ms/step - loss: 0.2681 - accuracy: 0.9098 - val_loss: 0.1076 - val_accuracy: 0.9624\n",
      "Epoch 23/1000\n",
      "248/254 [============================>.] - ETA: 0s - loss: 0.2549 - accuracy: 0.9124\n",
      "Epoch 23: saving model to model/keypoint_classifier\\keypoint_classifier.hdf5\n",
      "254/254 [==============================] - 2s 6ms/step - loss: 0.2551 - accuracy: 0.9124 - val_loss: 0.1066 - val_accuracy: 0.9644\n",
      "Epoch 24/1000\n",
      "250/254 [============================>.] - ETA: 0s - loss: 0.2586 - accuracy: 0.9120\n",
      "Epoch 24: saving model to model/keypoint_classifier\\keypoint_classifier.hdf5\n",
      "254/254 [==============================] - 2s 6ms/step - loss: 0.2593 - accuracy: 0.9117 - val_loss: 0.1131 - val_accuracy: 0.9616\n",
      "Epoch 25/1000\n",
      "253/254 [============================>.] - ETA: 0s - loss: 0.2497 - accuracy: 0.9146\n",
      "Epoch 25: saving model to model/keypoint_classifier\\keypoint_classifier.hdf5\n",
      "254/254 [==============================] - 2s 7ms/step - loss: 0.2498 - accuracy: 0.9144 - val_loss: 0.1111 - val_accuracy: 0.9622\n",
      "Epoch 26/1000\n",
      "251/254 [============================>.] - ETA: 0s - loss: 0.2491 - accuracy: 0.9155\n",
      "Epoch 26: saving model to model/keypoint_classifier\\keypoint_classifier.hdf5\n",
      "254/254 [==============================] - 2s 6ms/step - loss: 0.2505 - accuracy: 0.9152 - val_loss: 0.0996 - val_accuracy: 0.9656\n",
      "Epoch 27/1000\n",
      "248/254 [============================>.] - ETA: 0s - loss: 0.2450 - accuracy: 0.9171\n",
      "Epoch 27: saving model to model/keypoint_classifier\\keypoint_classifier.hdf5\n",
      "254/254 [==============================] - 2s 7ms/step - loss: 0.2454 - accuracy: 0.9172 - val_loss: 0.0871 - val_accuracy: 0.9713\n",
      "Epoch 28/1000\n",
      "253/254 [============================>.] - ETA: 0s - loss: 0.2452 - accuracy: 0.9163\n",
      "Epoch 28: saving model to model/keypoint_classifier\\keypoint_classifier.hdf5\n",
      "254/254 [==============================] - 1s 6ms/step - loss: 0.2452 - accuracy: 0.9163 - val_loss: 0.0955 - val_accuracy: 0.9683\n",
      "Epoch 29/1000\n",
      "244/254 [===========================>..] - ETA: 0s - loss: 0.2385 - accuracy: 0.9173\n",
      "Epoch 29: saving model to model/keypoint_classifier\\keypoint_classifier.hdf5\n",
      "254/254 [==============================] - 2s 6ms/step - loss: 0.2382 - accuracy: 0.9174 - val_loss: 0.1035 - val_accuracy: 0.9656\n",
      "Epoch 30/1000\n",
      "249/254 [============================>.] - ETA: 0s - loss: 0.2410 - accuracy: 0.9180\n",
      "Epoch 30: saving model to model/keypoint_classifier\\keypoint_classifier.hdf5\n",
      "254/254 [==============================] - 1s 5ms/step - loss: 0.2397 - accuracy: 0.9184 - val_loss: 0.1120 - val_accuracy: 0.9642\n",
      "Epoch 31/1000\n",
      "251/254 [============================>.] - ETA: 0s - loss: 0.2310 - accuracy: 0.9214\n",
      "Epoch 31: saving model to model/keypoint_classifier\\keypoint_classifier.hdf5\n",
      "254/254 [==============================] - 2s 6ms/step - loss: 0.2308 - accuracy: 0.9215 - val_loss: 0.0906 - val_accuracy: 0.9673\n",
      "Epoch 32/1000\n",
      "249/254 [============================>.] - ETA: 0s - loss: 0.2289 - accuracy: 0.9212\n",
      "Epoch 32: saving model to model/keypoint_classifier\\keypoint_classifier.hdf5\n",
      "254/254 [==============================] - 2s 7ms/step - loss: 0.2279 - accuracy: 0.9217 - val_loss: 0.0838 - val_accuracy: 0.9738\n",
      "Epoch 33/1000\n",
      "244/254 [===========================>..] - ETA: 0s - loss: 0.2356 - accuracy: 0.9206\n",
      "Epoch 33: saving model to model/keypoint_classifier\\keypoint_classifier.hdf5\n",
      "254/254 [==============================] - 2s 6ms/step - loss: 0.2352 - accuracy: 0.9209 - val_loss: 0.0810 - val_accuracy: 0.9723\n",
      "Epoch 34/1000\n",
      "249/254 [============================>.] - ETA: 0s - loss: 0.2303 - accuracy: 0.9208\n",
      "Epoch 34: saving model to model/keypoint_classifier\\keypoint_classifier.hdf5\n",
      "254/254 [==============================] - 2s 7ms/step - loss: 0.2308 - accuracy: 0.9207 - val_loss: 0.0943 - val_accuracy: 0.9677\n",
      "Epoch 35/1000\n",
      "253/254 [============================>.] - ETA: 0s - loss: 0.2235 - accuracy: 0.9246\n",
      "Epoch 35: saving model to model/keypoint_classifier\\keypoint_classifier.hdf5\n",
      "254/254 [==============================] - 2s 6ms/step - loss: 0.2239 - accuracy: 0.9246 - val_loss: 0.0879 - val_accuracy: 0.9697\n",
      "Epoch 36/1000\n",
      "254/254 [==============================] - ETA: 0s - loss: 0.2241 - accuracy: 0.9240\n",
      "Epoch 36: saving model to model/keypoint_classifier\\keypoint_classifier.hdf5\n",
      "254/254 [==============================] - 2s 6ms/step - loss: 0.2241 - accuracy: 0.9240 - val_loss: 0.0912 - val_accuracy: 0.9702\n",
      "Epoch 37/1000\n",
      "254/254 [==============================] - ETA: 0s - loss: 0.2218 - accuracy: 0.9251\n",
      "Epoch 37: saving model to model/keypoint_classifier\\keypoint_classifier.hdf5\n",
      "254/254 [==============================] - 1s 5ms/step - loss: 0.2218 - accuracy: 0.9251 - val_loss: 0.0876 - val_accuracy: 0.9691\n",
      "Epoch 38/1000\n",
      "243/254 [===========================>..] - ETA: 0s - loss: 0.2237 - accuracy: 0.9228\n",
      "Epoch 38: saving model to model/keypoint_classifier\\keypoint_classifier.hdf5\n",
      "254/254 [==============================] - 1s 5ms/step - loss: 0.2226 - accuracy: 0.9233 - val_loss: 0.0836 - val_accuracy: 0.9753\n",
      "Epoch 39/1000\n",
      "252/254 [============================>.] - ETA: 0s - loss: 0.2168 - accuracy: 0.9264\n",
      "Epoch 39: saving model to model/keypoint_classifier\\keypoint_classifier.hdf5\n",
      "254/254 [==============================] - 2s 6ms/step - loss: 0.2169 - accuracy: 0.9264 - val_loss: 0.0827 - val_accuracy: 0.9726\n",
      "Epoch 40/1000\n",
      "248/254 [============================>.] - ETA: 0s - loss: 0.2208 - accuracy: 0.9260\n",
      "Epoch 40: saving model to model/keypoint_classifier\\keypoint_classifier.hdf5\n",
      "254/254 [==============================] - 1s 5ms/step - loss: 0.2208 - accuracy: 0.9260 - val_loss: 0.0842 - val_accuracy: 0.9668\n",
      "Epoch 41/1000\n",
      "251/254 [============================>.] - ETA: 0s - loss: 0.2139 - accuracy: 0.9286\n",
      "Epoch 41: saving model to model/keypoint_classifier\\keypoint_classifier.hdf5\n",
      "254/254 [==============================] - 2s 7ms/step - loss: 0.2142 - accuracy: 0.9287 - val_loss: 0.0895 - val_accuracy: 0.9697\n",
      "Epoch 42/1000\n",
      "244/254 [===========================>..] - ETA: 0s - loss: 0.2153 - accuracy: 0.9266\n",
      "Epoch 42: saving model to model/keypoint_classifier\\keypoint_classifier.hdf5\n",
      "254/254 [==============================] - 2s 6ms/step - loss: 0.2153 - accuracy: 0.9266 - val_loss: 0.0959 - val_accuracy: 0.9660\n",
      "Epoch 43/1000\n",
      "254/254 [==============================] - ETA: 0s - loss: 0.2129 - accuracy: 0.9264\n",
      "Epoch 43: saving model to model/keypoint_classifier\\keypoint_classifier.hdf5\n",
      "254/254 [==============================] - 2s 7ms/step - loss: 0.2129 - accuracy: 0.9264 - val_loss: 0.0767 - val_accuracy: 0.9748\n",
      "Epoch 44/1000\n",
      "248/254 [============================>.] - ETA: 0s - loss: 0.2094 - accuracy: 0.9267\n",
      "Epoch 44: saving model to model/keypoint_classifier\\keypoint_classifier.hdf5\n",
      "254/254 [==============================] - 2s 8ms/step - loss: 0.2086 - accuracy: 0.9270 - val_loss: 0.0776 - val_accuracy: 0.9751\n",
      "Epoch 45/1000\n",
      "249/254 [============================>.] - ETA: 0s - loss: 0.2083 - accuracy: 0.9284\n",
      "Epoch 45: saving model to model/keypoint_classifier\\keypoint_classifier.hdf5\n",
      "254/254 [==============================] - 2s 9ms/step - loss: 0.2079 - accuracy: 0.9287 - val_loss: 0.0811 - val_accuracy: 0.9726\n",
      "Epoch 46/1000\n",
      "253/254 [============================>.] - ETA: 0s - loss: 0.2088 - accuracy: 0.9274\n",
      "Epoch 46: saving model to model/keypoint_classifier\\keypoint_classifier.hdf5\n",
      "254/254 [==============================] - 3s 10ms/step - loss: 0.2090 - accuracy: 0.9273 - val_loss: 0.0774 - val_accuracy: 0.9736\n",
      "Epoch 47/1000\n",
      "252/254 [============================>.] - ETA: 0s - loss: 0.2050 - accuracy: 0.9289\n",
      "Epoch 47: saving model to model/keypoint_classifier\\keypoint_classifier.hdf5\n",
      "254/254 [==============================] - 2s 9ms/step - loss: 0.2050 - accuracy: 0.9290 - val_loss: 0.0813 - val_accuracy: 0.9741\n",
      "Epoch 48/1000\n",
      "253/254 [============================>.] - ETA: 0s - loss: 0.2065 - accuracy: 0.9294\n",
      "Epoch 48: saving model to model/keypoint_classifier\\keypoint_classifier.hdf5\n",
      "254/254 [==============================] - 2s 9ms/step - loss: 0.2063 - accuracy: 0.9294 - val_loss: 0.0783 - val_accuracy: 0.9765\n",
      "Epoch 49/1000\n",
      "248/254 [============================>.] - ETA: 0s - loss: 0.2035 - accuracy: 0.9298\n",
      "Epoch 49: saving model to model/keypoint_classifier\\keypoint_classifier.hdf5\n",
      "254/254 [==============================] - 2s 9ms/step - loss: 0.2031 - accuracy: 0.9303 - val_loss: 0.0766 - val_accuracy: 0.9729\n",
      "Epoch 50/1000\n",
      "247/254 [============================>.] - ETA: 0s - loss: 0.2090 - accuracy: 0.9289\n",
      "Epoch 50: saving model to model/keypoint_classifier\\keypoint_classifier.hdf5\n",
      "254/254 [==============================] - 2s 9ms/step - loss: 0.2085 - accuracy: 0.9291 - val_loss: 0.0798 - val_accuracy: 0.9733\n",
      "Epoch 51/1000\n",
      "248/254 [============================>.] - ETA: 0s - loss: 0.1991 - accuracy: 0.9306\n",
      "Epoch 51: saving model to model/keypoint_classifier\\keypoint_classifier.hdf5\n",
      "254/254 [==============================] - 2s 8ms/step - loss: 0.1976 - accuracy: 0.9310 - val_loss: 0.0717 - val_accuracy: 0.9750\n",
      "Epoch 52/1000\n",
      "248/254 [============================>.] - ETA: 0s - loss: 0.2065 - accuracy: 0.9293\n",
      "Epoch 52: saving model to model/keypoint_classifier\\keypoint_classifier.hdf5\n",
      "254/254 [==============================] - 2s 8ms/step - loss: 0.2057 - accuracy: 0.9296 - val_loss: 0.0837 - val_accuracy: 0.9706\n",
      "Epoch 53/1000\n",
      "253/254 [============================>.] - ETA: 0s - loss: 0.2013 - accuracy: 0.9289\n",
      "Epoch 53: saving model to model/keypoint_classifier\\keypoint_classifier.hdf5\n",
      "254/254 [==============================] - 2s 8ms/step - loss: 0.2014 - accuracy: 0.9290 - val_loss: 0.0754 - val_accuracy: 0.9735\n",
      "Epoch 54/1000\n",
      "251/254 [============================>.] - ETA: 0s - loss: 0.2041 - accuracy: 0.9283\n",
      "Epoch 54: saving model to model/keypoint_classifier\\keypoint_classifier.hdf5\n",
      "254/254 [==============================] - 1s 6ms/step - loss: 0.2044 - accuracy: 0.9283 - val_loss: 0.0785 - val_accuracy: 0.9750\n",
      "Epoch 55/1000\n",
      "250/254 [============================>.] - ETA: 0s - loss: 0.1925 - accuracy: 0.9342\n",
      "Epoch 55: saving model to model/keypoint_classifier\\keypoint_classifier.hdf5\n",
      "254/254 [==============================] - 1s 5ms/step - loss: 0.1925 - accuracy: 0.9342 - val_loss: 0.0738 - val_accuracy: 0.9750\n",
      "Epoch 56/1000\n",
      "254/254 [==============================] - ETA: 0s - loss: 0.1937 - accuracy: 0.9349\n",
      "Epoch 56: saving model to model/keypoint_classifier\\keypoint_classifier.hdf5\n",
      "254/254 [==============================] - 1s 5ms/step - loss: 0.1937 - accuracy: 0.9349 - val_loss: 0.0738 - val_accuracy: 0.9771\n",
      "Epoch 57/1000\n",
      "251/254 [============================>.] - ETA: 0s - loss: 0.1951 - accuracy: 0.9299\n",
      "Epoch 57: saving model to model/keypoint_classifier\\keypoint_classifier.hdf5\n",
      "254/254 [==============================] - 1s 5ms/step - loss: 0.1948 - accuracy: 0.9302 - val_loss: 0.0739 - val_accuracy: 0.9753\n",
      "Epoch 58/1000\n",
      "253/254 [============================>.] - ETA: 0s - loss: 0.1941 - accuracy: 0.9332\n",
      "Epoch 58: saving model to model/keypoint_classifier\\keypoint_classifier.hdf5\n",
      "254/254 [==============================] - 1s 5ms/step - loss: 0.1940 - accuracy: 0.9332 - val_loss: 0.0713 - val_accuracy: 0.9764\n",
      "Epoch 59/1000\n",
      "253/254 [============================>.] - ETA: 0s - loss: 0.1922 - accuracy: 0.9339\n",
      "Epoch 59: saving model to model/keypoint_classifier\\keypoint_classifier.hdf5\n",
      "254/254 [==============================] - 1s 6ms/step - loss: 0.1919 - accuracy: 0.9340 - val_loss: 0.0716 - val_accuracy: 0.9784\n",
      "Epoch 60/1000\n",
      "254/254 [==============================] - ETA: 0s - loss: 0.2003 - accuracy: 0.9313\n",
      "Epoch 60: saving model to model/keypoint_classifier\\keypoint_classifier.hdf5\n",
      "254/254 [==============================] - 1s 5ms/step - loss: 0.2003 - accuracy: 0.9313 - val_loss: 0.0735 - val_accuracy: 0.9733\n",
      "Epoch 61/1000\n",
      "246/254 [============================>.] - ETA: 0s - loss: 0.1903 - accuracy: 0.9344\n",
      "Epoch 61: saving model to model/keypoint_classifier\\keypoint_classifier.hdf5\n",
      "254/254 [==============================] - 1s 6ms/step - loss: 0.1895 - accuracy: 0.9346 - val_loss: 0.0795 - val_accuracy: 0.9738\n",
      "Epoch 62/1000\n",
      "242/254 [===========================>..] - ETA: 0s - loss: 0.1953 - accuracy: 0.9341\n",
      "Epoch 62: saving model to model/keypoint_classifier\\keypoint_classifier.hdf5\n",
      "254/254 [==============================] - 1s 5ms/step - loss: 0.1937 - accuracy: 0.9344 - val_loss: 0.0725 - val_accuracy: 0.9746\n",
      "Epoch 63/1000\n",
      "249/254 [============================>.] - ETA: 0s - loss: 0.1843 - accuracy: 0.9363\n",
      "Epoch 63: saving model to model/keypoint_classifier\\keypoint_classifier.hdf5\n",
      "254/254 [==============================] - 1s 5ms/step - loss: 0.1844 - accuracy: 0.9362 - val_loss: 0.0775 - val_accuracy: 0.9709\n",
      "Epoch 64/1000\n",
      "245/254 [===========================>..] - ETA: 0s - loss: 0.1917 - accuracy: 0.9347\n",
      "Epoch 64: saving model to model/keypoint_classifier\\keypoint_classifier.hdf5\n",
      "254/254 [==============================] - 1s 5ms/step - loss: 0.1916 - accuracy: 0.9348 - val_loss: 0.0652 - val_accuracy: 0.9806\n",
      "Epoch 65/1000\n",
      "243/254 [===========================>..] - ETA: 0s - loss: 0.1945 - accuracy: 0.9354\n",
      "Epoch 65: saving model to model/keypoint_classifier\\keypoint_classifier.hdf5\n",
      "254/254 [==============================] - 1s 5ms/step - loss: 0.1933 - accuracy: 0.9356 - val_loss: 0.0659 - val_accuracy: 0.9797\n",
      "Epoch 66/1000\n",
      "250/254 [============================>.] - ETA: 0s - loss: 0.1888 - accuracy: 0.9344\n",
      "Epoch 66: saving model to model/keypoint_classifier\\keypoint_classifier.hdf5\n",
      "254/254 [==============================] - 1s 5ms/step - loss: 0.1896 - accuracy: 0.9342 - val_loss: 0.0695 - val_accuracy: 0.9748\n",
      "Epoch 67/1000\n",
      "249/254 [============================>.] - ETA: 0s - loss: 0.1929 - accuracy: 0.9333\n",
      "Epoch 67: saving model to model/keypoint_classifier\\keypoint_classifier.hdf5\n",
      "254/254 [==============================] - 1s 5ms/step - loss: 0.1929 - accuracy: 0.9331 - val_loss: 0.0625 - val_accuracy: 0.9770\n",
      "Epoch 68/1000\n",
      "252/254 [============================>.] - ETA: 0s - loss: 0.1873 - accuracy: 0.9357\n",
      "Epoch 68: saving model to model/keypoint_classifier\\keypoint_classifier.hdf5\n",
      "254/254 [==============================] - 1s 5ms/step - loss: 0.1874 - accuracy: 0.9358 - val_loss: 0.0675 - val_accuracy: 0.9747\n",
      "Epoch 69/1000\n",
      "246/254 [============================>.] - ETA: 0s - loss: 0.1926 - accuracy: 0.9348\n",
      "Epoch 69: saving model to model/keypoint_classifier\\keypoint_classifier.hdf5\n",
      "254/254 [==============================] - 1s 5ms/step - loss: 0.1921 - accuracy: 0.9349 - val_loss: 0.0666 - val_accuracy: 0.9780\n",
      "Epoch 70/1000\n",
      "246/254 [============================>.] - ETA: 0s - loss: 0.1879 - accuracy: 0.9348\n",
      "Epoch 70: saving model to model/keypoint_classifier\\keypoint_classifier.hdf5\n",
      "254/254 [==============================] - 1s 5ms/step - loss: 0.1874 - accuracy: 0.9349 - val_loss: 0.0676 - val_accuracy: 0.9770\n",
      "Epoch 71/1000\n",
      "243/254 [===========================>..] - ETA: 0s - loss: 0.1841 - accuracy: 0.9373\n",
      "Epoch 71: saving model to model/keypoint_classifier\\keypoint_classifier.hdf5\n",
      "254/254 [==============================] - 1s 5ms/step - loss: 0.1840 - accuracy: 0.9373 - val_loss: 0.0676 - val_accuracy: 0.9745\n",
      "Epoch 72/1000\n",
      "251/254 [============================>.] - ETA: 0s - loss: 0.1875 - accuracy: 0.9363\n",
      "Epoch 72: saving model to model/keypoint_classifier\\keypoint_classifier.hdf5\n",
      "254/254 [==============================] - 2s 7ms/step - loss: 0.1869 - accuracy: 0.9366 - val_loss: 0.0652 - val_accuracy: 0.9776\n",
      "Epoch 73/1000\n",
      "252/254 [============================>.] - ETA: 0s - loss: 0.1841 - accuracy: 0.9367\n",
      "Epoch 73: saving model to model/keypoint_classifier\\keypoint_classifier.hdf5\n",
      "254/254 [==============================] - 2s 7ms/step - loss: 0.1837 - accuracy: 0.9368 - val_loss: 0.0719 - val_accuracy: 0.9758\n",
      "Epoch 74/1000\n",
      "245/254 [===========================>..] - ETA: 0s - loss: 0.1801 - accuracy: 0.9378\n",
      "Epoch 74: saving model to model/keypoint_classifier\\keypoint_classifier.hdf5\n",
      "254/254 [==============================] - 2s 7ms/step - loss: 0.1808 - accuracy: 0.9374 - val_loss: 0.0637 - val_accuracy: 0.9775\n",
      "Epoch 75/1000\n",
      "252/254 [============================>.] - ETA: 0s - loss: 0.1817 - accuracy: 0.9350\n",
      "Epoch 75: saving model to model/keypoint_classifier\\keypoint_classifier.hdf5\n",
      "254/254 [==============================] - 2s 7ms/step - loss: 0.1820 - accuracy: 0.9349 - val_loss: 0.0655 - val_accuracy: 0.9785\n",
      "Epoch 76/1000\n",
      "246/254 [============================>.] - ETA: 0s - loss: 0.1781 - accuracy: 0.9368\n",
      "Epoch 76: saving model to model/keypoint_classifier\\keypoint_classifier.hdf5\n",
      "254/254 [==============================] - 2s 9ms/step - loss: 0.1776 - accuracy: 0.9370 - val_loss: 0.0625 - val_accuracy: 0.9787\n",
      "Epoch 77/1000\n",
      "253/254 [============================>.] - ETA: 0s - loss: 0.1849 - accuracy: 0.9371\n",
      "Epoch 77: saving model to model/keypoint_classifier\\keypoint_classifier.hdf5\n",
      "254/254 [==============================] - 2s 8ms/step - loss: 0.1848 - accuracy: 0.9371 - val_loss: 0.0658 - val_accuracy: 0.9768\n",
      "Epoch 78/1000\n",
      "251/254 [============================>.] - ETA: 0s - loss: 0.1785 - accuracy: 0.9380\n",
      "Epoch 78: saving model to model/keypoint_classifier\\keypoint_classifier.hdf5\n",
      "254/254 [==============================] - 2s 8ms/step - loss: 0.1794 - accuracy: 0.9378 - val_loss: 0.0618 - val_accuracy: 0.9787\n",
      "Epoch 79/1000\n",
      "253/254 [============================>.] - ETA: 0s - loss: 0.1829 - accuracy: 0.9366\n",
      "Epoch 79: saving model to model/keypoint_classifier\\keypoint_classifier.hdf5\n",
      "254/254 [==============================] - 2s 8ms/step - loss: 0.1829 - accuracy: 0.9366 - val_loss: 0.0639 - val_accuracy: 0.9784\n",
      "Epoch 80/1000\n",
      "254/254 [==============================] - ETA: 0s - loss: 0.1805 - accuracy: 0.9374\n",
      "Epoch 80: saving model to model/keypoint_classifier\\keypoint_classifier.hdf5\n",
      "254/254 [==============================] - 1s 4ms/step - loss: 0.1805 - accuracy: 0.9374 - val_loss: 0.0647 - val_accuracy: 0.9799\n",
      "Epoch 81/1000\n",
      "245/254 [===========================>..] - ETA: 0s - loss: 0.1824 - accuracy: 0.9370\n",
      "Epoch 81: saving model to model/keypoint_classifier\\keypoint_classifier.hdf5\n",
      "254/254 [==============================] - 1s 5ms/step - loss: 0.1824 - accuracy: 0.9369 - val_loss: 0.0650 - val_accuracy: 0.9773\n",
      "Epoch 82/1000\n",
      "252/254 [============================>.] - ETA: 0s - loss: 0.1822 - accuracy: 0.9366\n",
      "Epoch 82: saving model to model/keypoint_classifier\\keypoint_classifier.hdf5\n",
      "254/254 [==============================] - 1s 5ms/step - loss: 0.1823 - accuracy: 0.9366 - val_loss: 0.0629 - val_accuracy: 0.9769\n",
      "Epoch 83/1000\n",
      "252/254 [============================>.] - ETA: 0s - loss: 0.1816 - accuracy: 0.9376\n",
      "Epoch 83: saving model to model/keypoint_classifier\\keypoint_classifier.hdf5\n",
      "254/254 [==============================] - 1s 5ms/step - loss: 0.1817 - accuracy: 0.9376 - val_loss: 0.0624 - val_accuracy: 0.9787\n",
      "Epoch 84/1000\n",
      "251/254 [============================>.] - ETA: 0s - loss: 0.1774 - accuracy: 0.9377\n",
      "Epoch 84: saving model to model/keypoint_classifier\\keypoint_classifier.hdf5\n",
      "254/254 [==============================] - 1s 6ms/step - loss: 0.1775 - accuracy: 0.9379 - val_loss: 0.0620 - val_accuracy: 0.9794\n",
      "Epoch 85/1000\n",
      "249/254 [============================>.] - ETA: 0s - loss: 0.1788 - accuracy: 0.9384\n",
      "Epoch 85: saving model to model/keypoint_classifier\\keypoint_classifier.hdf5\n",
      "254/254 [==============================] - 1s 5ms/step - loss: 0.1789 - accuracy: 0.9383 - val_loss: 0.0619 - val_accuracy: 0.9800\n",
      "Epoch 86/1000\n",
      "250/254 [============================>.] - ETA: 0s - loss: 0.1771 - accuracy: 0.9384\n",
      "Epoch 86: saving model to model/keypoint_classifier\\keypoint_classifier.hdf5\n",
      "254/254 [==============================] - 1s 5ms/step - loss: 0.1774 - accuracy: 0.9384 - val_loss: 0.0613 - val_accuracy: 0.9784\n",
      "Epoch 87/1000\n",
      "252/254 [============================>.] - ETA: 0s - loss: 0.1783 - accuracy: 0.9381\n",
      "Epoch 87: saving model to model/keypoint_classifier\\keypoint_classifier.hdf5\n",
      "254/254 [==============================] - 1s 6ms/step - loss: 0.1788 - accuracy: 0.9379 - val_loss: 0.0666 - val_accuracy: 0.9769\n",
      "Epoch 88/1000\n",
      "254/254 [==============================] - ETA: 0s - loss: 0.1763 - accuracy: 0.9385\n",
      "Epoch 88: saving model to model/keypoint_classifier\\keypoint_classifier.hdf5\n",
      "254/254 [==============================] - 1s 5ms/step - loss: 0.1763 - accuracy: 0.9385 - val_loss: 0.0593 - val_accuracy: 0.9800\n",
      "Epoch 89/1000\n",
      "252/254 [============================>.] - ETA: 0s - loss: 0.1754 - accuracy: 0.9399\n",
      "Epoch 89: saving model to model/keypoint_classifier\\keypoint_classifier.hdf5\n",
      "254/254 [==============================] - 2s 6ms/step - loss: 0.1753 - accuracy: 0.9398 - val_loss: 0.0609 - val_accuracy: 0.9794\n",
      "Epoch 90/1000\n",
      "250/254 [============================>.] - ETA: 0s - loss: 0.1736 - accuracy: 0.9409\n",
      "Epoch 90: saving model to model/keypoint_classifier\\keypoint_classifier.hdf5\n",
      "254/254 [==============================] - 1s 5ms/step - loss: 0.1738 - accuracy: 0.9408 - val_loss: 0.0607 - val_accuracy: 0.9778\n",
      "Epoch 91/1000\n",
      "251/254 [============================>.] - ETA: 0s - loss: 0.1713 - accuracy: 0.9415\n",
      "Epoch 91: saving model to model/keypoint_classifier\\keypoint_classifier.hdf5\n",
      "254/254 [==============================] - 1s 6ms/step - loss: 0.1716 - accuracy: 0.9413 - val_loss: 0.0596 - val_accuracy: 0.9787\n",
      "Epoch 92/1000\n",
      "249/254 [============================>.] - ETA: 0s - loss: 0.1727 - accuracy: 0.9391\n",
      "Epoch 92: saving model to model/keypoint_classifier\\keypoint_classifier.hdf5\n",
      "254/254 [==============================] - 1s 5ms/step - loss: 0.1726 - accuracy: 0.9391 - val_loss: 0.0607 - val_accuracy: 0.9759\n",
      "Epoch 93/1000\n",
      "246/254 [============================>.] - ETA: 0s - loss: 0.1736 - accuracy: 0.9393\n",
      "Epoch 93: saving model to model/keypoint_classifier\\keypoint_classifier.hdf5\n",
      "254/254 [==============================] - 1s 5ms/step - loss: 0.1741 - accuracy: 0.9392 - val_loss: 0.0557 - val_accuracy: 0.9807\n",
      "Epoch 94/1000\n",
      "245/254 [===========================>..] - ETA: 0s - loss: 0.1751 - accuracy: 0.9398\n",
      "Epoch 94: saving model to model/keypoint_classifier\\keypoint_classifier.hdf5\n",
      "254/254 [==============================] - 1s 6ms/step - loss: 0.1759 - accuracy: 0.9398 - val_loss: 0.0616 - val_accuracy: 0.9787\n",
      "Epoch 95/1000\n",
      "244/254 [===========================>..] - ETA: 0s - loss: 0.1760 - accuracy: 0.9410\n",
      "Epoch 95: saving model to model/keypoint_classifier\\keypoint_classifier.hdf5\n",
      "254/254 [==============================] - 1s 6ms/step - loss: 0.1771 - accuracy: 0.9405 - val_loss: 0.0600 - val_accuracy: 0.9792\n",
      "Epoch 96/1000\n",
      "248/254 [============================>.] - ETA: 0s - loss: 0.1788 - accuracy: 0.9404\n",
      "Epoch 96: saving model to model/keypoint_classifier\\keypoint_classifier.hdf5\n",
      "254/254 [==============================] - 1s 5ms/step - loss: 0.1784 - accuracy: 0.9403 - val_loss: 0.0639 - val_accuracy: 0.9772\n",
      "Epoch 97/1000\n",
      "246/254 [============================>.] - ETA: 0s - loss: 0.1753 - accuracy: 0.9393\n",
      "Epoch 97: saving model to model/keypoint_classifier\\keypoint_classifier.hdf5\n",
      "254/254 [==============================] - 1s 5ms/step - loss: 0.1754 - accuracy: 0.9390 - val_loss: 0.0551 - val_accuracy: 0.9807\n",
      "Epoch 98/1000\n",
      "247/254 [============================>.] - ETA: 0s - loss: 0.1655 - accuracy: 0.9427\n",
      "Epoch 98: saving model to model/keypoint_classifier\\keypoint_classifier.hdf5\n",
      "254/254 [==============================] - 1s 5ms/step - loss: 0.1661 - accuracy: 0.9425 - val_loss: 0.0566 - val_accuracy: 0.9797\n",
      "Epoch 99/1000\n",
      "244/254 [===========================>..] - ETA: 0s - loss: 0.1678 - accuracy: 0.9425\n",
      "Epoch 99: saving model to model/keypoint_classifier\\keypoint_classifier.hdf5\n",
      "254/254 [==============================] - 1s 6ms/step - loss: 0.1675 - accuracy: 0.9425 - val_loss: 0.0540 - val_accuracy: 0.9806\n",
      "Epoch 100/1000\n",
      "252/254 [============================>.] - ETA: 0s - loss: 0.1744 - accuracy: 0.9412\n",
      "Epoch 100: saving model to model/keypoint_classifier\\keypoint_classifier.hdf5\n",
      "254/254 [==============================] - 1s 5ms/step - loss: 0.1742 - accuracy: 0.9413 - val_loss: 0.0564 - val_accuracy: 0.9792\n",
      "Epoch 101/1000\n",
      "249/254 [============================>.] - ETA: 0s - loss: 0.1707 - accuracy: 0.9403\n",
      "Epoch 101: saving model to model/keypoint_classifier\\keypoint_classifier.hdf5\n",
      "254/254 [==============================] - 1s 5ms/step - loss: 0.1703 - accuracy: 0.9404 - val_loss: 0.0639 - val_accuracy: 0.9750\n",
      "Epoch 102/1000\n",
      "252/254 [============================>.] - ETA: 0s - loss: 0.1719 - accuracy: 0.9411\n",
      "Epoch 102: saving model to model/keypoint_classifier\\keypoint_classifier.hdf5\n",
      "254/254 [==============================] - 1s 5ms/step - loss: 0.1721 - accuracy: 0.9411 - val_loss: 0.0586 - val_accuracy: 0.9778\n",
      "Epoch 103/1000\n",
      "249/254 [============================>.] - ETA: 0s - loss: 0.1690 - accuracy: 0.9418\n",
      "Epoch 103: saving model to model/keypoint_classifier\\keypoint_classifier.hdf5\n",
      "254/254 [==============================] - 1s 5ms/step - loss: 0.1706 - accuracy: 0.9417 - val_loss: 0.0567 - val_accuracy: 0.9803\n",
      "Epoch 104/1000\n",
      "253/254 [============================>.] - ETA: 0s - loss: 0.1618 - accuracy: 0.9440\n",
      "Epoch 104: saving model to model/keypoint_classifier\\keypoint_classifier.hdf5\n",
      "254/254 [==============================] - 1s 5ms/step - loss: 0.1619 - accuracy: 0.9439 - val_loss: 0.0602 - val_accuracy: 0.9799\n",
      "Epoch 105/1000\n",
      "254/254 [==============================] - ETA: 0s - loss: 0.1733 - accuracy: 0.9411\n",
      "Epoch 105: saving model to model/keypoint_classifier\\keypoint_classifier.hdf5\n",
      "254/254 [==============================] - 1s 6ms/step - loss: 0.1733 - accuracy: 0.9411 - val_loss: 0.0559 - val_accuracy: 0.9821\n",
      "Epoch 106/1000\n",
      "248/254 [============================>.] - ETA: 0s - loss: 0.1701 - accuracy: 0.9408\n",
      "Epoch 106: saving model to model/keypoint_classifier\\keypoint_classifier.hdf5\n",
      "254/254 [==============================] - 1s 6ms/step - loss: 0.1694 - accuracy: 0.9411 - val_loss: 0.0541 - val_accuracy: 0.9812\n",
      "Epoch 107/1000\n",
      "250/254 [============================>.] - ETA: 0s - loss: 0.1723 - accuracy: 0.9417\n",
      "Epoch 107: saving model to model/keypoint_classifier\\keypoint_classifier.hdf5\n",
      "254/254 [==============================] - 1s 5ms/step - loss: 0.1724 - accuracy: 0.9417 - val_loss: 0.0589 - val_accuracy: 0.9801\n",
      "Epoch 108/1000\n",
      "243/254 [===========================>..] - ETA: 0s - loss: 0.1663 - accuracy: 0.9424\n",
      "Epoch 108: saving model to model/keypoint_classifier\\keypoint_classifier.hdf5\n",
      "254/254 [==============================] - 1s 5ms/step - loss: 0.1656 - accuracy: 0.9425 - val_loss: 0.0575 - val_accuracy: 0.9787\n",
      "Epoch 109/1000\n",
      "247/254 [============================>.] - ETA: 0s - loss: 0.1661 - accuracy: 0.9419\n",
      "Epoch 109: saving model to model/keypoint_classifier\\keypoint_classifier.hdf5\n",
      "254/254 [==============================] - 1s 5ms/step - loss: 0.1674 - accuracy: 0.9415 - val_loss: 0.0607 - val_accuracy: 0.9775\n",
      "Epoch 110/1000\n",
      "254/254 [==============================] - ETA: 0s - loss: 0.1656 - accuracy: 0.9424\n",
      "Epoch 110: saving model to model/keypoint_classifier\\keypoint_classifier.hdf5\n",
      "254/254 [==============================] - 1s 5ms/step - loss: 0.1656 - accuracy: 0.9424 - val_loss: 0.0521 - val_accuracy: 0.9820\n",
      "Epoch 111/1000\n",
      "246/254 [============================>.] - ETA: 0s - loss: 0.1616 - accuracy: 0.9441\n",
      "Epoch 111: saving model to model/keypoint_classifier\\keypoint_classifier.hdf5\n",
      "254/254 [==============================] - 1s 5ms/step - loss: 0.1607 - accuracy: 0.9444 - val_loss: 0.0524 - val_accuracy: 0.9835\n",
      "Epoch 112/1000\n",
      "246/254 [============================>.] - ETA: 0s - loss: 0.1683 - accuracy: 0.9424\n",
      "Epoch 112: saving model to model/keypoint_classifier\\keypoint_classifier.hdf5\n",
      "254/254 [==============================] - 1s 5ms/step - loss: 0.1689 - accuracy: 0.9421 - val_loss: 0.0546 - val_accuracy: 0.9811\n",
      "Epoch 113/1000\n",
      "246/254 [============================>.] - ETA: 0s - loss: 0.1683 - accuracy: 0.9413\n",
      "Epoch 113: saving model to model/keypoint_classifier\\keypoint_classifier.hdf5\n",
      "254/254 [==============================] - 1s 5ms/step - loss: 0.1678 - accuracy: 0.9417 - val_loss: 0.0552 - val_accuracy: 0.9799\n",
      "Epoch 114/1000\n",
      "252/254 [============================>.] - ETA: 0s - loss: 0.1647 - accuracy: 0.9425\n",
      "Epoch 114: saving model to model/keypoint_classifier\\keypoint_classifier.hdf5\n",
      "254/254 [==============================] - 1s 5ms/step - loss: 0.1643 - accuracy: 0.9426 - val_loss: 0.0580 - val_accuracy: 0.9807\n",
      "Epoch 115/1000\n",
      "250/254 [============================>.] - ETA: 0s - loss: 0.1707 - accuracy: 0.9429\n",
      "Epoch 115: saving model to model/keypoint_classifier\\keypoint_classifier.hdf5\n",
      "254/254 [==============================] - 1s 5ms/step - loss: 0.1707 - accuracy: 0.9426 - val_loss: 0.0547 - val_accuracy: 0.9816\n",
      "Epoch 116/1000\n",
      "248/254 [============================>.] - ETA: 0s - loss: 0.1642 - accuracy: 0.9441\n",
      "Epoch 116: saving model to model/keypoint_classifier\\keypoint_classifier.hdf5\n",
      "254/254 [==============================] - 1s 5ms/step - loss: 0.1644 - accuracy: 0.9440 - val_loss: 0.0585 - val_accuracy: 0.9799\n",
      "Epoch 117/1000\n",
      "251/254 [============================>.] - ETA: 0s - loss: 0.1685 - accuracy: 0.9411\n",
      "Epoch 117: saving model to model/keypoint_classifier\\keypoint_classifier.hdf5\n",
      "254/254 [==============================] - 1s 5ms/step - loss: 0.1684 - accuracy: 0.9411 - val_loss: 0.0543 - val_accuracy: 0.9822\n",
      "Epoch 118/1000\n",
      "242/254 [===========================>..] - ETA: 0s - loss: 0.1672 - accuracy: 0.9433\n",
      "Epoch 118: saving model to model/keypoint_classifier\\keypoint_classifier.hdf5\n",
      "254/254 [==============================] - 1s 6ms/step - loss: 0.1683 - accuracy: 0.9429 - val_loss: 0.0533 - val_accuracy: 0.9813\n",
      "Epoch 119/1000\n",
      "253/254 [============================>.] - ETA: 0s - loss: 0.1633 - accuracy: 0.9421\n",
      "Epoch 119: saving model to model/keypoint_classifier\\keypoint_classifier.hdf5\n",
      "254/254 [==============================] - 1s 5ms/step - loss: 0.1631 - accuracy: 0.9421 - val_loss: 0.0497 - val_accuracy: 0.9817\n",
      "Epoch 120/1000\n",
      "254/254 [==============================] - ETA: 0s - loss: 0.1638 - accuracy: 0.9440\n",
      "Epoch 120: saving model to model/keypoint_classifier\\keypoint_classifier.hdf5\n",
      "254/254 [==============================] - 1s 5ms/step - loss: 0.1638 - accuracy: 0.9440 - val_loss: 0.0545 - val_accuracy: 0.9811\n",
      "Epoch 121/1000\n",
      "250/254 [============================>.] - ETA: 0s - loss: 0.1610 - accuracy: 0.9449\n",
      "Epoch 121: saving model to model/keypoint_classifier\\keypoint_classifier.hdf5\n",
      "254/254 [==============================] - 1s 6ms/step - loss: 0.1616 - accuracy: 0.9449 - val_loss: 0.0529 - val_accuracy: 0.9807\n",
      "Epoch 122/1000\n",
      "244/254 [===========================>..] - ETA: 0s - loss: 0.1616 - accuracy: 0.9443\n",
      "Epoch 122: saving model to model/keypoint_classifier\\keypoint_classifier.hdf5\n",
      "254/254 [==============================] - 1s 5ms/step - loss: 0.1622 - accuracy: 0.9439 - val_loss: 0.0515 - val_accuracy: 0.9835\n",
      "Epoch 123/1000\n",
      "243/254 [===========================>..] - ETA: 0s - loss: 0.1649 - accuracy: 0.9427\n",
      "Epoch 123: saving model to model/keypoint_classifier\\keypoint_classifier.hdf5\n",
      "254/254 [==============================] - 1s 5ms/step - loss: 0.1659 - accuracy: 0.9426 - val_loss: 0.0521 - val_accuracy: 0.9831\n",
      "Epoch 124/1000\n",
      "249/254 [============================>.] - ETA: 0s - loss: 0.1628 - accuracy: 0.9425\n",
      "Epoch 124: saving model to model/keypoint_classifier\\keypoint_classifier.hdf5\n",
      "254/254 [==============================] - 1s 5ms/step - loss: 0.1624 - accuracy: 0.9426 - val_loss: 0.0521 - val_accuracy: 0.9829\n",
      "Epoch 125/1000\n",
      "246/254 [============================>.] - ETA: 0s - loss: 0.1615 - accuracy: 0.9438\n",
      "Epoch 125: saving model to model/keypoint_classifier\\keypoint_classifier.hdf5\n",
      "254/254 [==============================] - 1s 5ms/step - loss: 0.1627 - accuracy: 0.9435 - val_loss: 0.0568 - val_accuracy: 0.9809\n",
      "Epoch 126/1000\n",
      "250/254 [============================>.] - ETA: 0s - loss: 0.1664 - accuracy: 0.9429\n",
      "Epoch 126: saving model to model/keypoint_classifier\\keypoint_classifier.hdf5\n",
      "254/254 [==============================] - 1s 6ms/step - loss: 0.1664 - accuracy: 0.9429 - val_loss: 0.0508 - val_accuracy: 0.9829\n",
      "Epoch 127/1000\n",
      "245/254 [===========================>..] - ETA: 0s - loss: 0.1570 - accuracy: 0.9465\n",
      "Epoch 127: saving model to model/keypoint_classifier\\keypoint_classifier.hdf5\n",
      "254/254 [==============================] - 1s 5ms/step - loss: 0.1575 - accuracy: 0.9462 - val_loss: 0.0576 - val_accuracy: 0.9798\n",
      "Epoch 128/1000\n",
      "248/254 [============================>.] - ETA: 0s - loss: 0.1628 - accuracy: 0.9432\n",
      "Epoch 128: saving model to model/keypoint_classifier\\keypoint_classifier.hdf5\n",
      "254/254 [==============================] - 1s 5ms/step - loss: 0.1628 - accuracy: 0.9433 - val_loss: 0.0513 - val_accuracy: 0.9823\n",
      "Epoch 129/1000\n",
      "250/254 [============================>.] - ETA: 0s - loss: 0.1635 - accuracy: 0.9437\n",
      "Epoch 129: saving model to model/keypoint_classifier\\keypoint_classifier.hdf5\n",
      "254/254 [==============================] - 2s 6ms/step - loss: 0.1634 - accuracy: 0.9437 - val_loss: 0.0508 - val_accuracy: 0.9816\n",
      "Epoch 130/1000\n",
      "247/254 [============================>.] - ETA: 0s - loss: 0.1627 - accuracy: 0.9438\n",
      "Epoch 130: saving model to model/keypoint_classifier\\keypoint_classifier.hdf5\n",
      "254/254 [==============================] - 1s 5ms/step - loss: 0.1626 - accuracy: 0.9438 - val_loss: 0.0564 - val_accuracy: 0.9793\n",
      "Epoch 131/1000\n",
      "250/254 [============================>.] - ETA: 0s - loss: 0.1587 - accuracy: 0.9446\n",
      "Epoch 131: saving model to model/keypoint_classifier\\keypoint_classifier.hdf5\n",
      "254/254 [==============================] - 1s 6ms/step - loss: 0.1591 - accuracy: 0.9444 - val_loss: 0.0500 - val_accuracy: 0.9828\n",
      "Epoch 132/1000\n",
      "253/254 [============================>.] - ETA: 0s - loss: 0.1539 - accuracy: 0.9456\n",
      "Epoch 132: saving model to model/keypoint_classifier\\keypoint_classifier.hdf5\n",
      "254/254 [==============================] - 1s 6ms/step - loss: 0.1541 - accuracy: 0.9456 - val_loss: 0.0540 - val_accuracy: 0.9811\n",
      "Epoch 133/1000\n",
      "253/254 [============================>.] - ETA: 0s - loss: 0.1560 - accuracy: 0.9454\n",
      "Epoch 133: saving model to model/keypoint_classifier\\keypoint_classifier.hdf5\n",
      "254/254 [==============================] - 1s 5ms/step - loss: 0.1560 - accuracy: 0.9454 - val_loss: 0.0548 - val_accuracy: 0.9810\n",
      "Epoch 134/1000\n",
      "253/254 [============================>.] - ETA: 0s - loss: 0.1571 - accuracy: 0.9457\n",
      "Epoch 134: saving model to model/keypoint_classifier\\keypoint_classifier.hdf5\n",
      "254/254 [==============================] - 1s 5ms/step - loss: 0.1572 - accuracy: 0.9457 - val_loss: 0.0511 - val_accuracy: 0.9832\n",
      "Epoch 135/1000\n",
      "242/254 [===========================>..] - ETA: 0s - loss: 0.1605 - accuracy: 0.9444\n",
      "Epoch 135: saving model to model/keypoint_classifier\\keypoint_classifier.hdf5\n",
      "254/254 [==============================] - 1s 5ms/step - loss: 0.1610 - accuracy: 0.9442 - val_loss: 0.0470 - val_accuracy: 0.9839\n",
      "Epoch 136/1000\n",
      "248/254 [============================>.] - ETA: 0s - loss: 0.1590 - accuracy: 0.9449\n",
      "Epoch 136: saving model to model/keypoint_classifier\\keypoint_classifier.hdf5\n",
      "254/254 [==============================] - 1s 6ms/step - loss: 0.1599 - accuracy: 0.9447 - val_loss: 0.0475 - val_accuracy: 0.9846\n",
      "Epoch 137/1000\n",
      "243/254 [===========================>..] - ETA: 0s - loss: 0.1576 - accuracy: 0.9455\n",
      "Epoch 137: saving model to model/keypoint_classifier\\keypoint_classifier.hdf5\n",
      "254/254 [==============================] - 1s 5ms/step - loss: 0.1582 - accuracy: 0.9454 - val_loss: 0.0569 - val_accuracy: 0.9805\n",
      "Epoch 138/1000\n",
      "244/254 [===========================>..] - ETA: 0s - loss: 0.1597 - accuracy: 0.9440\n",
      "Epoch 138: saving model to model/keypoint_classifier\\keypoint_classifier.hdf5\n",
      "254/254 [==============================] - 1s 5ms/step - loss: 0.1597 - accuracy: 0.9437 - val_loss: 0.0509 - val_accuracy: 0.9822\n",
      "Epoch 139/1000\n",
      "247/254 [============================>.] - ETA: 0s - loss: 0.1612 - accuracy: 0.9457\n",
      "Epoch 139: saving model to model/keypoint_classifier\\keypoint_classifier.hdf5\n",
      "254/254 [==============================] - 1s 5ms/step - loss: 0.1608 - accuracy: 0.9457 - val_loss: 0.0506 - val_accuracy: 0.9830\n",
      "Epoch 140/1000\n",
      "249/254 [============================>.] - ETA: 0s - loss: 0.1600 - accuracy: 0.9451\n",
      "Epoch 140: saving model to model/keypoint_classifier\\keypoint_classifier.hdf5\n",
      "254/254 [==============================] - 1s 5ms/step - loss: 0.1595 - accuracy: 0.9451 - val_loss: 0.0558 - val_accuracy: 0.9811\n",
      "Epoch 141/1000\n",
      "251/254 [============================>.] - ETA: 0s - loss: 0.1638 - accuracy: 0.9438\n",
      "Epoch 141: saving model to model/keypoint_classifier\\keypoint_classifier.hdf5\n",
      "254/254 [==============================] - 1s 5ms/step - loss: 0.1638 - accuracy: 0.9439 - val_loss: 0.0552 - val_accuracy: 0.9824\n",
      "Epoch 142/1000\n",
      "243/254 [===========================>..] - ETA: 0s - loss: 0.1608 - accuracy: 0.9448\n",
      "Epoch 142: saving model to model/keypoint_classifier\\keypoint_classifier.hdf5\n",
      "254/254 [==============================] - 1s 5ms/step - loss: 0.1598 - accuracy: 0.9450 - val_loss: 0.0514 - val_accuracy: 0.9807\n",
      "Epoch 143/1000\n",
      "253/254 [============================>.] - ETA: 0s - loss: 0.1568 - accuracy: 0.9458\n",
      "Epoch 143: saving model to model/keypoint_classifier\\keypoint_classifier.hdf5\n",
      "254/254 [==============================] - 1s 5ms/step - loss: 0.1569 - accuracy: 0.9458 - val_loss: 0.0477 - val_accuracy: 0.9835\n",
      "Epoch 144/1000\n",
      "244/254 [===========================>..] - ETA: 0s - loss: 0.1635 - accuracy: 0.9434\n",
      "Epoch 144: saving model to model/keypoint_classifier\\keypoint_classifier.hdf5\n",
      "254/254 [==============================] - 1s 5ms/step - loss: 0.1625 - accuracy: 0.9438 - val_loss: 0.0523 - val_accuracy: 0.9803\n",
      "Epoch 145/1000\n",
      "245/254 [===========================>..] - ETA: 0s - loss: 0.1576 - accuracy: 0.9472\n",
      "Epoch 145: saving model to model/keypoint_classifier\\keypoint_classifier.hdf5\n",
      "254/254 [==============================] - 1s 5ms/step - loss: 0.1582 - accuracy: 0.9468 - val_loss: 0.0466 - val_accuracy: 0.9837\n",
      "Epoch 146/1000\n",
      "249/254 [============================>.] - ETA: 0s - loss: 0.1534 - accuracy: 0.9461\n",
      "Epoch 146: saving model to model/keypoint_classifier\\keypoint_classifier.hdf5\n",
      "254/254 [==============================] - 1s 5ms/step - loss: 0.1544 - accuracy: 0.9456 - val_loss: 0.0505 - val_accuracy: 0.9813\n",
      "Epoch 147/1000\n",
      "245/254 [===========================>..] - ETA: 0s - loss: 0.1608 - accuracy: 0.9444\n",
      "Epoch 147: saving model to model/keypoint_classifier\\keypoint_classifier.hdf5\n",
      "254/254 [==============================] - 1s 5ms/step - loss: 0.1604 - accuracy: 0.9444 - val_loss: 0.0480 - val_accuracy: 0.9834\n",
      "Epoch 148/1000\n",
      "253/254 [============================>.] - ETA: 0s - loss: 0.1517 - accuracy: 0.9475\n",
      "Epoch 148: saving model to model/keypoint_classifier\\keypoint_classifier.hdf5\n",
      "254/254 [==============================] - 1s 6ms/step - loss: 0.1520 - accuracy: 0.9474 - val_loss: 0.0533 - val_accuracy: 0.9811\n",
      "Epoch 149/1000\n",
      "243/254 [===========================>..] - ETA: 0s - loss: 0.1540 - accuracy: 0.9481\n",
      "Epoch 149: saving model to model/keypoint_classifier\\keypoint_classifier.hdf5\n",
      "254/254 [==============================] - 1s 5ms/step - loss: 0.1543 - accuracy: 0.9480 - val_loss: 0.0475 - val_accuracy: 0.9829\n",
      "Epoch 150/1000\n",
      "244/254 [===========================>..] - ETA: 0s - loss: 0.1555 - accuracy: 0.9454\n",
      "Epoch 150: saving model to model/keypoint_classifier\\keypoint_classifier.hdf5\n",
      "254/254 [==============================] - 1s 5ms/step - loss: 0.1559 - accuracy: 0.9452 - val_loss: 0.0472 - val_accuracy: 0.9830\n",
      "Epoch 151/1000\n",
      "246/254 [============================>.] - ETA: 0s - loss: 0.1514 - accuracy: 0.9473\n",
      "Epoch 151: saving model to model/keypoint_classifier\\keypoint_classifier.hdf5\n",
      "254/254 [==============================] - 1s 5ms/step - loss: 0.1512 - accuracy: 0.9473 - val_loss: 0.0527 - val_accuracy: 0.9790\n",
      "Epoch 152/1000\n",
      "252/254 [============================>.] - ETA: 0s - loss: 0.1517 - accuracy: 0.9479\n",
      "Epoch 152: saving model to model/keypoint_classifier\\keypoint_classifier.hdf5\n",
      "254/254 [==============================] - 1s 5ms/step - loss: 0.1514 - accuracy: 0.9480 - val_loss: 0.0511 - val_accuracy: 0.9834\n",
      "Epoch 153/1000\n",
      "247/254 [============================>.] - ETA: 0s - loss: 0.1580 - accuracy: 0.9466\n",
      "Epoch 153: saving model to model/keypoint_classifier\\keypoint_classifier.hdf5\n",
      "254/254 [==============================] - 1s 5ms/step - loss: 0.1578 - accuracy: 0.9467 - val_loss: 0.0467 - val_accuracy: 0.9814\n",
      "Epoch 154/1000\n",
      "242/254 [===========================>..] - ETA: 0s - loss: 0.1505 - accuracy: 0.9488\n",
      "Epoch 154: saving model to model/keypoint_classifier\\keypoint_classifier.hdf5\n",
      "254/254 [==============================] - 1s 5ms/step - loss: 0.1506 - accuracy: 0.9487 - val_loss: 0.0496 - val_accuracy: 0.9829\n",
      "Epoch 155/1000\n",
      "243/254 [===========================>..] - ETA: 0s - loss: 0.1545 - accuracy: 0.9471\n",
      "Epoch 155: saving model to model/keypoint_classifier\\keypoint_classifier.hdf5\n",
      "254/254 [==============================] - 1s 5ms/step - loss: 0.1553 - accuracy: 0.9470 - val_loss: 0.0470 - val_accuracy: 0.9835\n",
      "Epoch 156/1000\n",
      "253/254 [============================>.] - ETA: 0s - loss: 0.1577 - accuracy: 0.9449\n",
      "Epoch 156: saving model to model/keypoint_classifier\\keypoint_classifier.hdf5\n",
      "254/254 [==============================] - 1s 6ms/step - loss: 0.1579 - accuracy: 0.9449 - val_loss: 0.0495 - val_accuracy: 0.9844\n",
      "Epoch 157/1000\n",
      "242/254 [===========================>..] - ETA: 0s - loss: 0.1567 - accuracy: 0.9463\n",
      "Epoch 157: saving model to model/keypoint_classifier\\keypoint_classifier.hdf5\n",
      "254/254 [==============================] - 1s 5ms/step - loss: 0.1551 - accuracy: 0.9468 - val_loss: 0.0496 - val_accuracy: 0.9823\n",
      "Epoch 158/1000\n",
      "248/254 [============================>.] - ETA: 0s - loss: 0.1498 - accuracy: 0.9481\n",
      "Epoch 158: saving model to model/keypoint_classifier\\keypoint_classifier.hdf5\n",
      "254/254 [==============================] - 1s 5ms/step - loss: 0.1513 - accuracy: 0.9478 - val_loss: 0.0491 - val_accuracy: 0.9833\n",
      "Epoch 159/1000\n",
      "251/254 [============================>.] - ETA: 0s - loss: 0.1512 - accuracy: 0.9478\n",
      "Epoch 159: saving model to model/keypoint_classifier\\keypoint_classifier.hdf5\n",
      "254/254 [==============================] - 1s 5ms/step - loss: 0.1508 - accuracy: 0.9479 - val_loss: 0.0451 - val_accuracy: 0.9849\n",
      "Epoch 160/1000\n",
      "245/254 [===========================>..] - ETA: 0s - loss: 0.1573 - accuracy: 0.9462\n",
      "Epoch 160: saving model to model/keypoint_classifier\\keypoint_classifier.hdf5\n",
      "254/254 [==============================] - 1s 5ms/step - loss: 0.1568 - accuracy: 0.9466 - val_loss: 0.0463 - val_accuracy: 0.9837\n",
      "Epoch 161/1000\n",
      "247/254 [============================>.] - ETA: 0s - loss: 0.1494 - accuracy: 0.9486\n",
      "Epoch 161: saving model to model/keypoint_classifier\\keypoint_classifier.hdf5\n",
      "254/254 [==============================] - 1s 6ms/step - loss: 0.1498 - accuracy: 0.9486 - val_loss: 0.0491 - val_accuracy: 0.9844\n",
      "Epoch 162/1000\n",
      "253/254 [============================>.] - ETA: 0s - loss: 0.1496 - accuracy: 0.9484\n",
      "Epoch 162: saving model to model/keypoint_classifier\\keypoint_classifier.hdf5\n",
      "254/254 [==============================] - 1s 5ms/step - loss: 0.1495 - accuracy: 0.9484 - val_loss: 0.0476 - val_accuracy: 0.9832\n",
      "Epoch 163/1000\n",
      "253/254 [============================>.] - ETA: 0s - loss: 0.1543 - accuracy: 0.9472\n",
      "Epoch 163: saving model to model/keypoint_classifier\\keypoint_classifier.hdf5\n",
      "254/254 [==============================] - 1s 6ms/step - loss: 0.1544 - accuracy: 0.9472 - val_loss: 0.0483 - val_accuracy: 0.9842\n",
      "Epoch 164/1000\n",
      "248/254 [============================>.] - ETA: 0s - loss: 0.1528 - accuracy: 0.9487\n",
      "Epoch 164: saving model to model/keypoint_classifier\\keypoint_classifier.hdf5\n",
      "254/254 [==============================] - 1s 5ms/step - loss: 0.1537 - accuracy: 0.9484 - val_loss: 0.0464 - val_accuracy: 0.9846\n",
      "Epoch 165/1000\n",
      "250/254 [============================>.] - ETA: 0s - loss: 0.1491 - accuracy: 0.9472\n",
      "Epoch 165: saving model to model/keypoint_classifier\\keypoint_classifier.hdf5\n",
      "254/254 [==============================] - 1s 5ms/step - loss: 0.1489 - accuracy: 0.9474 - val_loss: 0.0472 - val_accuracy: 0.9831\n",
      "Epoch 166/1000\n",
      "250/254 [============================>.] - ETA: 0s - loss: 0.1581 - accuracy: 0.9445\n",
      "Epoch 166: saving model to model/keypoint_classifier\\keypoint_classifier.hdf5\n",
      "254/254 [==============================] - 1s 6ms/step - loss: 0.1577 - accuracy: 0.9445 - val_loss: 0.0497 - val_accuracy: 0.9844\n",
      "Epoch 167/1000\n",
      "242/254 [===========================>..] - ETA: 0s - loss: 0.1538 - accuracy: 0.9475\n",
      "Epoch 167: saving model to model/keypoint_classifier\\keypoint_classifier.hdf5\n",
      "254/254 [==============================] - 1s 5ms/step - loss: 0.1537 - accuracy: 0.9472 - val_loss: 0.0496 - val_accuracy: 0.9828\n",
      "Epoch 168/1000\n",
      "245/254 [===========================>..] - ETA: 0s - loss: 0.1496 - accuracy: 0.9475\n",
      "Epoch 168: saving model to model/keypoint_classifier\\keypoint_classifier.hdf5\n",
      "254/254 [==============================] - 1s 5ms/step - loss: 0.1505 - accuracy: 0.9472 - val_loss: 0.0463 - val_accuracy: 0.9827\n",
      "Epoch 169/1000\n",
      "242/254 [===========================>..] - ETA: 0s - loss: 0.1491 - accuracy: 0.9485\n",
      "Epoch 169: saving model to model/keypoint_classifier\\keypoint_classifier.hdf5\n",
      "254/254 [==============================] - 1s 5ms/step - loss: 0.1487 - accuracy: 0.9484 - val_loss: 0.0506 - val_accuracy: 0.9831\n",
      "Epoch 170/1000\n",
      "247/254 [============================>.] - ETA: 0s - loss: 0.1513 - accuracy: 0.9478\n",
      "Epoch 170: saving model to model/keypoint_classifier\\keypoint_classifier.hdf5\n",
      "254/254 [==============================] - 1s 5ms/step - loss: 0.1513 - accuracy: 0.9478 - val_loss: 0.0489 - val_accuracy: 0.9817\n",
      "Epoch 171/1000\n",
      "251/254 [============================>.] - ETA: 0s - loss: 0.1491 - accuracy: 0.9485\n",
      "Epoch 171: saving model to model/keypoint_classifier\\keypoint_classifier.hdf5\n",
      "254/254 [==============================] - 1s 5ms/step - loss: 0.1494 - accuracy: 0.9483 - val_loss: 0.0465 - val_accuracy: 0.9832\n",
      "Epoch 172/1000\n",
      "252/254 [============================>.] - ETA: 0s - loss: 0.1523 - accuracy: 0.9475\n",
      "Epoch 172: saving model to model/keypoint_classifier\\keypoint_classifier.hdf5\n",
      "254/254 [==============================] - 1s 5ms/step - loss: 0.1526 - accuracy: 0.9475 - val_loss: 0.0442 - val_accuracy: 0.9846\n",
      "Epoch 173/1000\n",
      "249/254 [============================>.] - ETA: 0s - loss: 0.1515 - accuracy: 0.9470\n",
      "Epoch 173: saving model to model/keypoint_classifier\\keypoint_classifier.hdf5\n",
      "254/254 [==============================] - 1s 5ms/step - loss: 0.1513 - accuracy: 0.9471 - val_loss: 0.0482 - val_accuracy: 0.9825\n",
      "Epoch 174/1000\n",
      "250/254 [============================>.] - ETA: 0s - loss: 0.1528 - accuracy: 0.9471\n",
      "Epoch 174: saving model to model/keypoint_classifier\\keypoint_classifier.hdf5\n",
      "254/254 [==============================] - 1s 5ms/step - loss: 0.1533 - accuracy: 0.9469 - val_loss: 0.0490 - val_accuracy: 0.9818\n",
      "Epoch 175/1000\n",
      "243/254 [===========================>..] - ETA: 0s - loss: 0.1475 - accuracy: 0.9469\n",
      "Epoch 175: saving model to model/keypoint_classifier\\keypoint_classifier.hdf5\n",
      "254/254 [==============================] - 2s 7ms/step - loss: 0.1481 - accuracy: 0.9468 - val_loss: 0.0448 - val_accuracy: 0.9849\n",
      "Epoch 176/1000\n",
      "254/254 [==============================] - ETA: 0s - loss: 0.1584 - accuracy: 0.9469\n",
      "Epoch 176: saving model to model/keypoint_classifier\\keypoint_classifier.hdf5\n",
      "254/254 [==============================] - 1s 5ms/step - loss: 0.1584 - accuracy: 0.9469 - val_loss: 0.0433 - val_accuracy: 0.9854\n",
      "Epoch 177/1000\n",
      "254/254 [==============================] - ETA: 0s - loss: 0.1507 - accuracy: 0.9490\n",
      "Epoch 177: saving model to model/keypoint_classifier\\keypoint_classifier.hdf5\n",
      "254/254 [==============================] - 1s 6ms/step - loss: 0.1507 - accuracy: 0.9490 - val_loss: 0.0439 - val_accuracy: 0.9857\n",
      "Epoch 178/1000\n",
      "250/254 [============================>.] - ETA: 0s - loss: 0.1446 - accuracy: 0.9502\n",
      "Epoch 178: saving model to model/keypoint_classifier\\keypoint_classifier.hdf5\n",
      "254/254 [==============================] - 1s 5ms/step - loss: 0.1445 - accuracy: 0.9502 - val_loss: 0.0410 - val_accuracy: 0.9857\n",
      "Epoch 179/1000\n",
      "247/254 [============================>.] - ETA: 0s - loss: 0.1473 - accuracy: 0.9486\n",
      "Epoch 179: saving model to model/keypoint_classifier\\keypoint_classifier.hdf5\n",
      "254/254 [==============================] - 1s 5ms/step - loss: 0.1469 - accuracy: 0.9487 - val_loss: 0.0444 - val_accuracy: 0.9855\n",
      "Epoch 180/1000\n",
      "247/254 [============================>.] - ETA: 0s - loss: 0.1458 - accuracy: 0.9500\n",
      "Epoch 180: saving model to model/keypoint_classifier\\keypoint_classifier.hdf5\n",
      "254/254 [==============================] - 1s 6ms/step - loss: 0.1453 - accuracy: 0.9499 - val_loss: 0.0485 - val_accuracy: 0.9815\n",
      "Epoch 181/1000\n",
      "248/254 [============================>.] - ETA: 0s - loss: 0.1448 - accuracy: 0.9488\n",
      "Epoch 181: saving model to model/keypoint_classifier\\keypoint_classifier.hdf5\n",
      "254/254 [==============================] - 1s 5ms/step - loss: 0.1448 - accuracy: 0.9489 - val_loss: 0.0527 - val_accuracy: 0.9788\n",
      "Epoch 182/1000\n",
      "252/254 [============================>.] - ETA: 0s - loss: 0.1509 - accuracy: 0.9481\n",
      "Epoch 182: saving model to model/keypoint_classifier\\keypoint_classifier.hdf5\n",
      "254/254 [==============================] - 1s 6ms/step - loss: 0.1507 - accuracy: 0.9481 - val_loss: 0.0457 - val_accuracy: 0.9840\n",
      "Epoch 183/1000\n",
      "251/254 [============================>.] - ETA: 0s - loss: 0.1449 - accuracy: 0.9490\n",
      "Epoch 183: saving model to model/keypoint_classifier\\keypoint_classifier.hdf5\n",
      "254/254 [==============================] - 1s 5ms/step - loss: 0.1443 - accuracy: 0.9492 - val_loss: 0.0450 - val_accuracy: 0.9832\n",
      "Epoch 184/1000\n",
      "246/254 [============================>.] - ETA: 0s - loss: 0.1446 - accuracy: 0.9496\n",
      "Epoch 184: saving model to model/keypoint_classifier\\keypoint_classifier.hdf5\n",
      "254/254 [==============================] - 1s 5ms/step - loss: 0.1443 - accuracy: 0.9496 - val_loss: 0.0478 - val_accuracy: 0.9824\n",
      "Epoch 185/1000\n",
      "243/254 [===========================>..] - ETA: 0s - loss: 0.1475 - accuracy: 0.9489\n",
      "Epoch 185: saving model to model/keypoint_classifier\\keypoint_classifier.hdf5\n",
      "254/254 [==============================] - 1s 5ms/step - loss: 0.1483 - accuracy: 0.9487 - val_loss: 0.0446 - val_accuracy: 0.9854\n",
      "Epoch 186/1000\n",
      "247/254 [============================>.] - ETA: 0s - loss: 0.1486 - accuracy: 0.9495\n",
      "Epoch 186: saving model to model/keypoint_classifier\\keypoint_classifier.hdf5\n",
      "254/254 [==============================] - 1s 5ms/step - loss: 0.1490 - accuracy: 0.9496 - val_loss: 0.0477 - val_accuracy: 0.9825\n",
      "Epoch 187/1000\n",
      "250/254 [============================>.] - ETA: 0s - loss: 0.1482 - accuracy: 0.9486\n",
      "Epoch 187: saving model to model/keypoint_classifier\\keypoint_classifier.hdf5\n",
      "254/254 [==============================] - 1s 5ms/step - loss: 0.1479 - accuracy: 0.9487 - val_loss: 0.0447 - val_accuracy: 0.9829\n",
      "Epoch 188/1000\n",
      "248/254 [============================>.] - ETA: 0s - loss: 0.1465 - accuracy: 0.9496\n",
      "Epoch 188: saving model to model/keypoint_classifier\\keypoint_classifier.hdf5\n",
      "254/254 [==============================] - 1s 5ms/step - loss: 0.1467 - accuracy: 0.9494 - val_loss: 0.0458 - val_accuracy: 0.9840\n",
      "Epoch 189/1000\n",
      "247/254 [============================>.] - ETA: 0s - loss: 0.1466 - accuracy: 0.9496\n",
      "Epoch 189: saving model to model/keypoint_classifier\\keypoint_classifier.hdf5\n",
      "254/254 [==============================] - 1s 5ms/step - loss: 0.1461 - accuracy: 0.9498 - val_loss: 0.0458 - val_accuracy: 0.9854\n",
      "Epoch 190/1000\n",
      "248/254 [============================>.] - ETA: 0s - loss: 0.1548 - accuracy: 0.9463\n",
      "Epoch 190: saving model to model/keypoint_classifier\\keypoint_classifier.hdf5\n",
      "254/254 [==============================] - 2s 6ms/step - loss: 0.1538 - accuracy: 0.9465 - val_loss: 0.0457 - val_accuracy: 0.9838\n",
      "Epoch 191/1000\n",
      "251/254 [============================>.] - ETA: 0s - loss: 0.1520 - accuracy: 0.9476\n",
      "Epoch 191: saving model to model/keypoint_classifier\\keypoint_classifier.hdf5\n",
      "254/254 [==============================] - 2s 7ms/step - loss: 0.1527 - accuracy: 0.9473 - val_loss: 0.0433 - val_accuracy: 0.9843\n",
      "Epoch 192/1000\n",
      "250/254 [============================>.] - ETA: 0s - loss: 0.1502 - accuracy: 0.9471\n",
      "Epoch 192: saving model to model/keypoint_classifier\\keypoint_classifier.hdf5\n",
      "254/254 [==============================] - 2s 6ms/step - loss: 0.1503 - accuracy: 0.9471 - val_loss: 0.0483 - val_accuracy: 0.9825\n",
      "Epoch 193/1000\n",
      "250/254 [============================>.] - ETA: 0s - loss: 0.1488 - accuracy: 0.9490\n",
      "Epoch 193: saving model to model/keypoint_classifier\\keypoint_classifier.hdf5\n",
      "254/254 [==============================] - 2s 7ms/step - loss: 0.1483 - accuracy: 0.9490 - val_loss: 0.0491 - val_accuracy: 0.9843\n",
      "Epoch 194/1000\n",
      "248/254 [============================>.] - ETA: 0s - loss: 0.1491 - accuracy: 0.9485\n",
      "Epoch 194: saving model to model/keypoint_classifier\\keypoint_classifier.hdf5\n",
      "254/254 [==============================] - 1s 6ms/step - loss: 0.1492 - accuracy: 0.9486 - val_loss: 0.0448 - val_accuracy: 0.9850\n",
      "Epoch 195/1000\n",
      "250/254 [============================>.] - ETA: 0s - loss: 0.1479 - accuracy: 0.9487\n",
      "Epoch 195: saving model to model/keypoint_classifier\\keypoint_classifier.hdf5\n",
      "254/254 [==============================] - 2s 6ms/step - loss: 0.1481 - accuracy: 0.9486 - val_loss: 0.0467 - val_accuracy: 0.9840\n",
      "Epoch 196/1000\n",
      "254/254 [==============================] - ETA: 0s - loss: 0.1497 - accuracy: 0.9481\n",
      "Epoch 196: saving model to model/keypoint_classifier\\keypoint_classifier.hdf5\n",
      "254/254 [==============================] - 1s 5ms/step - loss: 0.1497 - accuracy: 0.9481 - val_loss: 0.0449 - val_accuracy: 0.9834\n",
      "Epoch 197/1000\n",
      "245/254 [===========================>..] - ETA: 0s - loss: 0.1496 - accuracy: 0.9491\n",
      "Epoch 197: saving model to model/keypoint_classifier\\keypoint_classifier.hdf5\n",
      "254/254 [==============================] - 1s 5ms/step - loss: 0.1500 - accuracy: 0.9488 - val_loss: 0.0489 - val_accuracy: 0.9835\n",
      "Epoch 198/1000\n",
      "250/254 [============================>.] - ETA: 0s - loss: 0.1473 - accuracy: 0.9493\n",
      "Epoch 198: saving model to model/keypoint_classifier\\keypoint_classifier.hdf5\n",
      "254/254 [==============================] - 1s 5ms/step - loss: 0.1470 - accuracy: 0.9493 - val_loss: 0.0457 - val_accuracy: 0.9846\n",
      "Epoch 198: early stopping\n"
     ]
    }
   ],
   "source": [
    "history = model.fit(\n",
    "    X_train,\n",
    "    y_train,\n",
    "    epochs=1000,\n",
    "    batch_size=128,\n",
    "    validation_data=(X_test, y_test),\n",
    "    callbacks=[cp_callback, es_callback]\n",
    ")"
   ]
  },
  {
   "cell_type": "code",
   "execution_count": 47,
   "metadata": {
    "colab": {
     "base_uri": "https://localhost:8080/"
    },
    "id": "pxvb2Y299hE3",
    "outputId": "59eb3185-2e37-4b9e-bc9d-ab1b8ac29b7f"
   },
   "outputs": [
    {
     "name": "stdout",
     "output_type": "stream",
     "text": [
      "85/85 [==============================] - 0s 1ms/step - loss: 0.0457 - accuracy: 0.9846\n"
     ]
    }
   ],
   "source": [
    "# Model evaluation\n",
    "val_loss, val_acc = model.evaluate(X_test, y_test, batch_size=128)"
   ]
  },
  {
   "cell_type": "code",
   "execution_count": 48,
   "metadata": {
    "id": "RBkmDeUW9hE4"
   },
   "outputs": [],
   "source": [
    "# Loading the saved model\n",
    "model = tf.keras.models.load_model(model_save_path)"
   ]
  },
  {
   "cell_type": "code",
   "execution_count": 49,
   "metadata": {
    "colab": {
     "base_uri": "https://localhost:8080/"
    },
    "id": "tFz9Tb0I9hE4",
    "outputId": "1c3b3528-54ae-4ee2-ab04-77429211cbef"
   },
   "outputs": [
    {
     "name": "stdout",
     "output_type": "stream",
     "text": [
      "1/1 [==============================] - 0s 76ms/step\n",
      "[2.6696464e-14 3.1870967e-10 4.5064399e-14 2.1541178e-13 9.9869674e-01\n",
      " 2.3349286e-22 1.8448492e-21 6.8544587e-10 7.8834746e-18 1.1616986e-31\n",
      " 5.4627722e-23 8.4800792e-13 2.1327148e-18 1.2421964e-23 5.4639700e-12\n",
      " 1.9666675e-19 1.2369629e-10 5.8367234e-05 1.2449379e-03 8.8649274e-15\n",
      " 1.0398030e-10 6.8481945e-15 4.7291070e-11 1.6731654e-12 1.2630599e-13\n",
      " 4.1294381e-14 2.7017323e-15 9.9428465e-10]\n",
      "4\n"
     ]
    }
   ],
   "source": [
    "# Inference test\n",
    "predict_result = model.predict(np.array([X_test[0]]))\n",
    "print(np.squeeze(predict_result))\n",
    "print(np.argmax(np.squeeze(predict_result)))"
   ]
  },
  {
   "cell_type": "markdown",
   "metadata": {
    "id": "S3U4yNWx9hE4"
   },
   "source": [
    "# Confusion matrix"
   ]
  },
  {
   "cell_type": "code",
   "execution_count": 50,
   "metadata": {},
   "outputs": [],
   "source": [
    "with open('model/keypoint_classifier/keypoint_classifier_label.csv',\n",
    "            encoding='utf-8-sig') as f:\n",
    "    labels = csv.reader(f)\n",
    "    labels = [\n",
    "        row[0] for row in labels\n",
    "    ]\n",
    "for i in range(len(labels)):\n",
    "    labels[i] = labels[i] + \" \" + str(i)"
   ]
  },
  {
   "cell_type": "code",
   "execution_count": 51,
   "metadata": {},
   "outputs": [
    {
     "data": {
      "text/plain": [
       "['Pathakas 0',\n",
       " 'Tripathako 1',\n",
       " 'Ardhapathakas 2',\n",
       " 'Kartharimukhaha 3',\n",
       " 'Mayoorakhyo 4',\n",
       " 'Ardhachandrascha 5',\n",
       " 'Araala 6',\n",
       " 'Shukathundakaha 7',\n",
       " 'Mushtischa 8',\n",
       " 'Shikharakhyascha 9',\n",
       " 'Kapitha 10',\n",
       " 'Katakhamukhaha 11',\n",
       " 'Suchi 12',\n",
       " 'Chandrakhala 13',\n",
       " 'Padmakosha 14',\n",
       " 'Sarparhirasthathaa 15',\n",
       " 'Mrigashirsha 16',\n",
       " 'Simhamukhaha 17',\n",
       " 'Kaangoolascha 18',\n",
       " 'Alapadmakaha 19',\n",
       " 'Chaturo 20',\n",
       " 'Bhramaraschaiva 21',\n",
       " 'Hamsasyo 22',\n",
       " 'Hamsapakshakaha 23',\n",
       " 'Samdamsho 24',\n",
       " 'Mukulaschaiva 25',\n",
       " 'Thaamrachoodas 26',\n",
       " 'Trisoolakaha 27']"
      ]
     },
     "execution_count": 51,
     "metadata": {},
     "output_type": "execute_result"
    }
   ],
   "source": [
    "labels"
   ]
  },
  {
   "cell_type": "code",
   "execution_count": 52,
   "metadata": {
    "colab": {
     "base_uri": "https://localhost:8080/",
     "height": 582
    },
    "id": "AP1V6SCk9hE5",
    "outputId": "08e41a80-7a4a-4619-8125-ecc371368d19"
   },
   "outputs": [
    {
     "name": "stdout",
     "output_type": "stream",
     "text": [
      "  1/339 [..............................] - ETA: 8s"
     ]
    },
    {
     "name": "stdout",
     "output_type": "stream",
     "text": [
      "339/339 [==============================] - 0s 1ms/step\n"
     ]
    },
    {
     "data": {
      "image/png": "[encoded data removed]",
      "text/plain": [
       "<Figure size 864x720 with 2 Axes>"
      ]
     },
     "metadata": {
      "needs_background": "light"
     },
     "output_type": "display_data"
    },
    {
     "name": "stdout",
     "output_type": "stream",
     "text": [
      "Classification Report\n",
      "                       precision    recall  f1-score   support\n",
      "\n",
      "           Pathakas 0       0.97      0.99      0.98       374\n",
      "         Tripathako 1       0.99      0.97      0.98       349\n",
      "      Ardhapathakas 2       0.98      0.99      0.99       382\n",
      "    Kartharimukhaha 3       0.98      1.00      0.99       355\n",
      "        Mayoorakhyo 4       0.99      1.00      0.99       357\n",
      "   Ardhachandrascha 5       0.99      0.99      0.99       447\n",
      "             Araala 6       0.99      0.99      0.99       358\n",
      "    Shukathundakaha 7       1.00      1.00      1.00       418\n",
      "         Mushtischa 8       0.99      1.00      0.99       358\n",
      "   Shikharakhyascha 9       0.98      1.00      0.99       365\n",
      "           Kapitha 10       1.00      1.00      1.00       347\n",
      "    Katakhamukhaha 11       0.98      1.00      0.99       388\n",
      "             Suchi 12       0.99      1.00      0.99       370\n",
      "      Chandrakhala 13       1.00      0.98      0.99       384\n",
      "        Padmakosha 14       1.00      0.99      1.00       382\n",
      "Sarparhirasthathaa 15       0.99      0.99      0.99       435\n",
      "      Mrigashirsha 16       0.88      0.88      0.88       364\n",
      "      Simhamukhaha 17       1.00      1.00      1.00       426\n",
      "     Kaangoolascha 18       1.00      0.99      1.00       454\n",
      "      Alapadmakaha 19       1.00      0.98      0.99       388\n",
      "           Chaturo 20       1.00      0.99      1.00       349\n",
      "   Bhramaraschaiva 21       1.00      0.99      0.99       404\n",
      "          Hamsasyo 22       1.00      0.99      0.99       371\n",
      "   Hamsapakshakaha 23       0.88      0.89      0.89       382\n",
      "         Samdamsho 24       1.00      1.00      1.00       411\n",
      "     Mukulaschaiva 25       0.99      0.98      0.99       379\n",
      "    Thaamrachoodas 26       0.99      0.98      0.99       429\n",
      "      Trisoolakaha 27       1.00      0.98      0.99       394\n",
      "\n",
      "             accuracy                           0.98     10820\n",
      "            macro avg       0.98      0.98      0.98     10820\n",
      "         weighted avg       0.98      0.98      0.98     10820\n",
      "\n"
     ]
    }
   ],
   "source": [
    "import pandas as pd\n",
    "import seaborn as sns\n",
    "import matplotlib.pyplot as plt\n",
    "from sklearn.metrics import confusion_matrix, classification_report\n",
    "\n",
    "def print_confusion_matrix(y_true, y_pred, labels, report=True):\n",
    "    # labels = sorted(list(set(y_true)))\n",
    "    cmx_data = confusion_matrix(y_true, y_pred, labels=list(range(len(labels))))\n",
    "    \n",
    "    df_cmx = pd.DataFrame(cmx_data, index=labels, columns=labels)\n",
    " \n",
    "    fig, ax = plt.subplots(figsize=(12, 10))\n",
    "    sns.heatmap(df_cmx, annot=True, fmt='g' ,square=False)\n",
    "    ax.set_ylim(len(set(y_true)), 0)\n",
    "    plt.show()\n",
    "    \n",
    "    if report:\n",
    "        print('Classification Report')\n",
    "        print(classification_report(y_test, y_pred, target_names=labels))\n",
    "\n",
    "Y_pred = model.predict(X_test)\n",
    "y_pred = np.argmax(Y_pred, axis=1)\n",
    "\n",
    "print_confusion_matrix(y_test, y_pred, labels)"
   ]
  },
  {
   "cell_type": "code",
   "execution_count": 53,
   "metadata": {},
   "outputs": [
    {
     "data": {
      "image/png": "[encoded data removed]",
      "text/plain": [
       "<Figure size 720x432 with 1 Axes>"
      ]
     },
     "metadata": {
      "needs_background": "light"
     },
     "output_type": "display_data"
    }
   ],
   "source": [
    "plt.figure(figsize=(10,6))\n",
    "plt.plot(history.history['loss'], label='Training Loss')\n",
    "plt.plot(history.history['val_loss'], label='Validation Loss')\n",
    "plt.title('Training vs Validation Loss')\n",
    "plt.xlabel('Epochs')\n",
    "plt.ylabel('Loss')\n",
    "plt.legend()\n",
    "plt.show()"
   ]
  },
  {
   "cell_type": "code",
   "execution_count": 54,
   "metadata": {},
   "outputs": [],
   "source": [
    "import matplotlib.pyplot as plt\n",
    "import matplotlib.patches as patches\n",
    "\n",
    "def visualize_hand(data):\n",
    "    # Split the one-dimensional list into x and y coordinates\n",
    "    data = data[:42]\n",
    "    x_coords = [data[i] for i in range(0, len(data), 2)]\n",
    "    y_coords = [data[i] for i in range(1, len(data), 2)]\n",
    "    \n",
    "    fig, ax = plt.subplots()\n",
    "    \n",
    "    # Plotting the landmarks\n",
    "    ax.scatter(x_coords, y_coords, s=50, color='red', label='Landmarks')\n",
    "\n",
    "    # Plotting the connections between landmarks\n",
    "    connections = [(0,1), (1,2), (2,3), (3,4),\n",
    "                   (0,5), (5,6), (6,7), (7,8),\n",
    "                   (0,9), (9,10), (10,11), (11,12),\n",
    "                   (0,13), (13,14), (14,15), (15,16),\n",
    "                   (0,17), (17,18), (18,19), (19,20)]\n",
    "    for connection in connections:\n",
    "        ax.plot([x_coords[connection[0]], x_coords[connection[1]]],\n",
    "                [y_coords[connection[0]], y_coords[connection[1]]], 'r-')\n",
    "\n",
    "    ax.set_aspect('equal')\n",
    "    ax.invert_yaxis()  # Since screen coordinates are inverted in y\n",
    "    plt.title('Hand Gesture')\n",
    "    plt.xlabel('X coordinate')\n",
    "    plt.ylabel('Y coordinate')\n",
    "    plt.grid(True)\n",
    "    plt.legend()\n",
    "    plt.show()"
   ]
  },
  {
   "cell_type": "code",
   "execution_count": 55,
   "metadata": {},
   "outputs": [
    {
     "data": {
      "text/plain": [
       "22"
      ]
     },
     "execution_count": 55,
     "metadata": {},
     "output_type": "execute_result"
    }
   ],
   "source": [
    "y_pred[8]"
   ]
  },
  {
   "cell_type": "code",
   "execution_count": 56,
   "metadata": {},
   "outputs": [
    {
     "data": {
      "text/plain": [
       "22"
      ]
     },
     "execution_count": 56,
     "metadata": {},
     "output_type": "execute_result"
    }
   ],
   "source": [
    "y_test[8]"
   ]
  },
  {
   "cell_type": "code",
   "execution_count": 57,
   "metadata": {},
   "outputs": [
    {
     "data": {
      "text/plain": [
       "167"
      ]
     },
     "execution_count": 57,
     "metadata": {},
     "output_type": "execute_result"
    }
   ],
   "source": [
    "misclassified_indices = np.where(y_pred != y_test)[0]\n",
    "len(misclassified_indices)"
   ]
  },
  {
   "cell_type": "code",
   "execution_count": 58,
   "metadata": {},
   "outputs": [
    {
     "data": {
      "text/plain": [
       "array([ 1.        ,  0.9123506 ,  0.92828685,  1.0996016 ,  1.250996  ,\n",
       "        1.0517929 ,  1.0956175 ,  1.1314741 ,  1.1832669 ,  1.1952192 ,\n",
       "        1.306773  ,  1.378486  ,  1.4501992 ,  1.2868526 ,  1.3585657 ,\n",
       "        1.2749004 ,  1.2151394 ,  1.3545817 ,  1.501992  ,  1.6015936 ,\n",
       "        1.6772908 ,  0.        , -0.11952192, -0.26294822, -0.2988048 ,\n",
       "       -0.28286853, -0.50199205, -0.7450199 , -0.8844622 , -1.        ,\n",
       "       -0.47011954, -0.6932271 , -0.8326693 , -0.9721116 , -0.3984064 ,\n",
       "       -0.5099602 , -0.38247013, -0.2868526 , -0.29482073, -0.3984064 ,\n",
       "       -0.47808766, -0.5697211 ], dtype=float32)"
      ]
     },
     "execution_count": 58,
     "metadata": {},
     "output_type": "execute_result"
    }
   ],
   "source": [
    "X_test[0][:42]"
   ]
  },
  {
   "cell_type": "code",
   "execution_count": 59,
   "metadata": {},
   "outputs": [],
   "source": [
    "# # get all the misclassified indices\n",
    "# misclassified_indices = np.where(y_pred != y_test)[0]\n",
    "\n",
    "# for idx in misclassified_indices:\n",
    "#     if y_test[idx]==2:\n",
    "#         print(f\"Index: {idx}, True Label: {y_test[idx]}, Predicted Label: {y_pred[idx]}\")\n",
    "#         visualize_hand(X_test[idx])"
   ]
  },
  {
   "cell_type": "code",
   "execution_count": 60,
   "metadata": {},
   "outputs": [],
   "source": [
    "# # get all the misclassified indices\n",
    "# misclassified_indices = np.where(y_pred != y_test)[0]\n",
    "# count = 0\n",
    "# for idx in range(len(y_test)):\n",
    "#     if count==10:\n",
    "#         break\n",
    "#     if y_test[idx]==0:\n",
    "#         count+=1\n",
    "#         print(f\"Index: {idx}, True Label: {y_test[idx]}, Predicted Label: {y_pred[idx]}\")\n",
    "#         visualize_hand(X_test[idx])"
   ]
  },
  {
   "cell_type": "markdown",
   "metadata": {
    "id": "FNP6aqzc9hE5"
   },
   "source": [
    "# Convert to model for Tensorflow-Lite"
   ]
  },
  {
   "cell_type": "code",
   "execution_count": 61,
   "metadata": {
    "id": "ODjnYyld9hE6"
   },
   "outputs": [
    {
     "name": "stderr",
     "output_type": "stream",
     "text": [
      "c:\\Users\\anany\\anaconda3\\lib\\site-packages\\keras\\src\\engine\\training.py:3000: UserWarning: You are saving your model as an HDF5 file via `model.save()`. This file format is considered legacy. We recommend using instead the native Keras format, e.g. `model.save('my_model.keras')`.\n",
      "  saving_api.save_model(\n"
     ]
    }
   ],
   "source": [
    "# Save as a model dedicated to inference\n",
    "model.save(model_save_path, include_optimizer=False)"
   ]
  },
  {
   "cell_type": "code",
   "execution_count": 62,
   "metadata": {
    "colab": {
     "base_uri": "https://localhost:8080/"
    },
    "id": "zRfuK8Y59hE6",
    "outputId": "a4ca585c-b5d5-4244-8291-8674063209bb"
   },
   "outputs": [
    {
     "name": "stdout",
     "output_type": "stream",
     "text": [
      "INFO:tensorflow:Assets written to: C:\\Users\\anany\\AppData\\Local\\Temp\\tmpzh1hlm5x\\assets\n"
     ]
    },
    {
     "name": "stderr",
     "output_type": "stream",
     "text": [
      "INFO:tensorflow:Assets written to: C:\\Users\\anany\\AppData\\Local\\Temp\\tmpzh1hlm5x\\assets\n"
     ]
    },
    {
     "data": {
      "text/plain": [
       "111896"
      ]
     },
     "execution_count": 62,
     "metadata": {},
     "output_type": "execute_result"
    }
   ],
   "source": [
    "# Transform model (quantization)\n",
    "\n",
    "converter = tf.lite.TFLiteConverter.from_keras_model(model)\n",
    "converter.optimizations = [tf.lite.Optimize.DEFAULT]\n",
    "tflite_quantized_model = converter.convert()\n",
    "\n",
    "open(tflite_save_path, 'wb').write(tflite_quantized_model)"
   ]
  },
  {
   "cell_type": "markdown",
   "metadata": {
    "id": "CHBPBXdx9hE6"
   },
   "source": [
    "# Inference test"
   ]
  },
  {
   "cell_type": "code",
   "execution_count": 63,
   "metadata": {
    "id": "mGAzLocO9hE7"
   },
   "outputs": [],
   "source": [
    "interpreter = tf.lite.Interpreter(model_path=tflite_save_path)\n",
    "interpreter.allocate_tensors()"
   ]
  },
  {
   "cell_type": "code",
   "execution_count": 64,
   "metadata": {
    "id": "oQuDK8YS9hE7"
   },
   "outputs": [],
   "source": [
    "# Get I / O tensor\n",
    "input_details = interpreter.get_input_details()\n",
    "output_details = interpreter.get_output_details()"
   ]
  },
  {
   "cell_type": "code",
   "execution_count": 65,
   "metadata": {
    "id": "2_ixAf_l9hE7"
   },
   "outputs": [],
   "source": [
    "interpreter.set_tensor(input_details[0]['index'], np.array([X_test[0]]))"
   ]
  },
  {
   "cell_type": "code",
   "execution_count": 66,
   "metadata": {
    "colab": {
     "base_uri": "https://localhost:8080/"
    },
    "id": "s4FoAnuc9hE7",
    "outputId": "91f18257-8d8b-4ef3-c558-e9b5f94fabbf",
    "scrolled": true
   },
   "outputs": [
    {
     "name": "stdout",
     "output_type": "stream",
     "text": [
      "Wall time: 0 ns\n"
     ]
    }
   ],
   "source": [
    "%%time\n",
    "# Inference implementation\n",
    "interpreter.invoke()\n",
    "tflite_results = interpreter.get_tensor(output_details[0]['index'])"
   ]
  },
  {
   "cell_type": "code",
   "execution_count": 67,
   "metadata": {
    "colab": {
     "base_uri": "https://localhost:8080/"
    },
    "id": "vONjp19J9hE8",
    "outputId": "77205e24-fd00-42c4-f7b6-e06e527c2cba"
   },
   "outputs": [
    {
     "name": "stdout",
     "output_type": "stream",
     "text": [
      "[2.1994823e-14 3.8762960e-10 6.5851160e-14 3.6301897e-13 9.9783957e-01\n",
      " 2.8238189e-22 2.4251372e-21 8.9922092e-10 1.3229403e-17 2.2038852e-31\n",
      " 8.5757385e-23 1.7814178e-12 2.8814202e-18 2.2440295e-23 7.1671696e-12\n",
      " 1.9936253e-19 9.5930784e-11 4.5392841e-05 2.1149751e-03 1.1188800e-14\n",
      " 9.2294110e-11 1.0333551e-14 4.5134046e-11 1.8816921e-12 1.2980628e-13\n",
      " 5.8139732e-14 3.6720530e-15 1.7310371e-09]\n",
      "4\n"
     ]
    }
   ],
   "source": [
    "print(np.squeeze(tflite_results))\n",
    "print(np.argmax(np.squeeze(tflite_results)))"
   ]
  }
 ],
 "metadata": {
  "accelerator": "GPU",
  "colab": {
   "collapsed_sections": [],
   "name": "keypoint_classification_EN.ipynb",
   "provenance": [],
   "toc_visible": true
  },
  "kernelspec": {
   "display_name": "Python 3 (ipykernel)",
   "language": "python",
   "name": "python3"
  },
  "language_info": {
   "codemirror_mode": {
    "name": "ipython",
    "version": 3
   },
   "file_extension": ".py",
   "mimetype": "text/x-python",
   "name": "python",
   "nbconvert_exporter": "python",
   "pygments_lexer": "ipython3",
   "version": "3.9.7"
  }
 },
 "nbformat": 4,
 "nbformat_minor": 1
}
